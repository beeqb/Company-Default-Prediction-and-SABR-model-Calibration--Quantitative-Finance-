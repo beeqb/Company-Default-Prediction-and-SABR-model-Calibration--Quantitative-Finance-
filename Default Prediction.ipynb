{
 "cells": [
  {
   "cell_type": "code",
   "execution_count": 72,
   "metadata": {},
   "outputs": [],
   "source": [
    "import numpy as np\n",
    "import pandas as pd\n",
    "from sklearn import preprocessing\n",
    "from sklearn.model_selection import train_test_split\n",
    "from sklearn.linear_model import LogisticRegression\n",
    "from sklearn.ensemble import RandomForestClassifier\n",
    "import xgboost as xgb\n",
    "from sklearn.model_selection import GridSearchCV\n",
    "from sklearn.metrics import accuracy_score\n",
    "from sklearn.metrics import roc_auc_score\n",
    "from sklearn.metrics import confusion_matrix\n",
    "from sklearn.metrics import precision_score, recall_score\n",
    "from imblearn.over_sampling import SMOTE\n",
    "from keras.models import Sequential\n",
    "from keras.layers import Dense"
   ]
  },
  {
   "cell_type": "code",
   "execution_count": 40,
   "metadata": {
    "collapsed": true
   },
   "outputs": [],
   "source": [
    "from IPython.display import display\n",
    "\n",
    "pd.options.display.max_columns = None"
   ]
  },
  {
   "cell_type": "code",
   "execution_count": 45,
   "metadata": {},
   "outputs": [
    {
     "data": {
      "text/html": [
       "<div>\n",
       "<style>\n",
       "    .dataframe thead tr:only-child th {\n",
       "        text-align: right;\n",
       "    }\n",
       "\n",
       "    .dataframe thead th {\n",
       "        text-align: left;\n",
       "    }\n",
       "\n",
       "    .dataframe tbody tr th {\n",
       "        vertical-align: top;\n",
       "    }\n",
       "</style>\n",
       "<table border=\"1\" class=\"dataframe\">\n",
       "  <thead>\n",
       "    <tr style=\"text-align: right;\">\n",
       "      <th></th>\n",
       "      <th>financial statement type (es. Manufacturing, financial, real estate)</th>\n",
       "      <th>geographic area</th>\n",
       "      <th>counterparty ID</th>\n",
       "      <th>Default flag</th>\n",
       "      <th>Exposure</th>\n",
       "      <th>Industry</th>\n",
       "      <th>Industry 2</th>\n",
       "      <th>Type of counterparty</th>\n",
       "      <th>Date of observation</th>\n",
       "      <th>Time with bank in months (-999 = new customer)</th>\n",
       "    </tr>\n",
       "  </thead>\n",
       "  <tbody>\n",
       "    <tr>\n",
       "      <th>0</th>\n",
       "      <td>3.0</td>\n",
       "      <td>SUD ISOLE</td>\n",
       "      <td>4110</td>\n",
       "      <td>0</td>\n",
       "      <td>37734.0</td>\n",
       "      <td>Edilizia</td>\n",
       "      <td>FOCUS</td>\n",
       "      <td>DITTA</td>\n",
       "      <td>2013</td>\n",
       "      <td>19</td>\n",
       "    </tr>\n",
       "    <tr>\n",
       "      <th>1</th>\n",
       "      <td>4.0</td>\n",
       "      <td>SUD ISOLE</td>\n",
       "      <td>5278</td>\n",
       "      <td>0</td>\n",
       "      <td>0.0</td>\n",
       "      <td>Professionisti</td>\n",
       "      <td>PROFESSIONAL</td>\n",
       "      <td>DITTA</td>\n",
       "      <td>2013</td>\n",
       "      <td>-999</td>\n",
       "    </tr>\n",
       "    <tr>\n",
       "      <th>2</th>\n",
       "      <td>4.0</td>\n",
       "      <td>SUD ISOLE</td>\n",
       "      <td>5297</td>\n",
       "      <td>0</td>\n",
       "      <td>46934.0</td>\n",
       "      <td>Artigianato</td>\n",
       "      <td>FOCUS</td>\n",
       "      <td>DITTA</td>\n",
       "      <td>2013</td>\n",
       "      <td>22</td>\n",
       "    </tr>\n",
       "    <tr>\n",
       "      <th>3</th>\n",
       "      <td>1.0</td>\n",
       "      <td>SUD ISOLE</td>\n",
       "      <td>5312</td>\n",
       "      <td>0</td>\n",
       "      <td>33333.0</td>\n",
       "      <td>Artigianato</td>\n",
       "      <td>FOCUS</td>\n",
       "      <td>DITTA</td>\n",
       "      <td>2013</td>\n",
       "      <td>15</td>\n",
       "    </tr>\n",
       "    <tr>\n",
       "      <th>4</th>\n",
       "      <td>4.0</td>\n",
       "      <td>SUD ISOLE</td>\n",
       "      <td>5887</td>\n",
       "      <td>0</td>\n",
       "      <td>0.0</td>\n",
       "      <td>Professionisti</td>\n",
       "      <td>PROFESSIONAL</td>\n",
       "      <td>DITTA</td>\n",
       "      <td>2013</td>\n",
       "      <td>-999</td>\n",
       "    </tr>\n",
       "  </tbody>\n",
       "</table>\n",
       "</div>"
      ],
      "text/plain": [
       "   financial statement type (es. Manufacturing, financial, real estate)  \\\n",
       "0                                                3.0                      \n",
       "1                                                4.0                      \n",
       "2                                                4.0                      \n",
       "3                                                1.0                      \n",
       "4                                                4.0                      \n",
       "\n",
       "  geographic area  counterparty ID  Default flag  Exposure        Industry  \\\n",
       "0       SUD ISOLE             4110             0   37734.0        Edilizia   \n",
       "1       SUD ISOLE             5278             0       0.0  Professionisti   \n",
       "2       SUD ISOLE             5297             0   46934.0     Artigianato   \n",
       "3       SUD ISOLE             5312             0   33333.0     Artigianato   \n",
       "4       SUD ISOLE             5887             0       0.0  Professionisti   \n",
       "\n",
       "     Industry 2 Type of counterparty  Date of observation  \\\n",
       "0         FOCUS                DITTA                 2013   \n",
       "1  PROFESSIONAL                DITTA                 2013   \n",
       "2         FOCUS                DITTA                 2013   \n",
       "3         FOCUS                DITTA                 2013   \n",
       "4  PROFESSIONAL                DITTA                 2013   \n",
       "\n",
       "   Time with bank in months (-999 = new customer)  \n",
       "0                                              19  \n",
       "1                                            -999  \n",
       "2                                              22  \n",
       "3                                              15  \n",
       "4                                            -999  "
      ]
     },
     "execution_count": 45,
     "metadata": {},
     "output_type": "execute_result"
    }
   ],
   "source": [
    "df = pd.read_excel(\"Input_dataset.xlsx\", sheetname='Input_dataset')\n",
    "df.head()"
   ]
  },
  {
   "cell_type": "markdown",
   "metadata": {},
   "source": [
    "# EDA and Data Pre-processing"
   ]
  },
  {
   "cell_type": "code",
   "execution_count": 25,
   "metadata": {},
   "outputs": [
    {
     "data": {
      "text/plain": [
       "686914"
      ]
     },
     "execution_count": 25,
     "metadata": {},
     "output_type": "execute_result"
    }
   ],
   "source": [
    "a = len(df)\n",
    "a"
   ]
  },
  {
   "cell_type": "code",
   "execution_count": 7,
   "metadata": {},
   "outputs": [
    {
     "data": {
      "text/plain": [
       "array([ 3.,  4.,  1.,  5.,  2., nan])"
      ]
     },
     "execution_count": 7,
     "metadata": {},
     "output_type": "execute_result"
    }
   ],
   "source": [
    "df['financial statement type (es. Manufacturing, financial, real estate)'].unique()"
   ]
  },
  {
   "cell_type": "code",
   "execution_count": 8,
   "metadata": {},
   "outputs": [
    {
     "data": {
      "text/plain": [
       "array(['SUD ISOLE', 'CENTRO', nan, 'NORD EST', 'NORD OVEST'], dtype=object)"
      ]
     },
     "execution_count": 8,
     "metadata": {},
     "output_type": "execute_result"
    }
   ],
   "source": [
    "df['geographic area'].unique()"
   ]
  },
  {
   "cell_type": "code",
   "execution_count": 9,
   "metadata": {},
   "outputs": [
    {
     "data": {
      "text/plain": [
       "366042"
      ]
     },
     "execution_count": 9,
     "metadata": {},
     "output_type": "execute_result"
    }
   ],
   "source": [
    "df['counterparty ID'].nunique()"
   ]
  },
  {
   "cell_type": "code",
   "execution_count": 10,
   "metadata": {},
   "outputs": [
    {
     "data": {
      "text/plain": [
       "array(['Edilizia', 'Professionisti', 'Artigianato', 'Turismo',\n",
       "       'Agricoltura', 'Commercio', 'Piccole imprese', 'Altro',\n",
       "       'Consumatori'], dtype=object)"
      ]
     },
     "execution_count": 10,
     "metadata": {},
     "output_type": "execute_result"
    }
   ],
   "source": [
    "df['Industry'].unique()"
   ]
  },
  {
   "cell_type": "code",
   "execution_count": 11,
   "metadata": {},
   "outputs": [
    {
     "data": {
      "text/plain": [
       "array(['FOCUS', 'PROFESSIONAL'], dtype=object)"
      ]
     },
     "execution_count": 11,
     "metadata": {},
     "output_type": "execute_result"
    }
   ],
   "source": [
    "df['Industry 2'].unique()"
   ]
  },
  {
   "cell_type": "code",
   "execution_count": 12,
   "metadata": {},
   "outputs": [
    {
     "data": {
      "text/plain": [
       "array(['DITTA', 'SRL', 'COOP', 'SNC', 'SAS', 'SPA', 'SS', 'ALTRO', 'SDF'],\n",
       "      dtype=object)"
      ]
     },
     "execution_count": 12,
     "metadata": {},
     "output_type": "execute_result"
    }
   ],
   "source": [
    "df['Type of counterparty'].unique()"
   ]
  },
  {
   "cell_type": "code",
   "execution_count": 13,
   "metadata": {},
   "outputs": [
    {
     "data": {
      "text/plain": [
       "array([2013, 2014, 2015])"
      ]
     },
     "execution_count": 13,
     "metadata": {},
     "output_type": "execute_result"
    }
   ],
   "source": [
    "df['Date of observation'].unique()"
   ]
  },
  {
   "cell_type": "code",
   "execution_count": 34,
   "metadata": {},
   "outputs": [
    {
     "name": "stdout",
     "output_type": "stream",
     "text": [
      "4.400114133647007\n"
     ]
    }
   ],
   "source": [
    "default = df[df['Default flag']==1]\n",
    "len(default)\n",
    "print (len(default)/len(df)*100)"
   ]
  },
  {
   "cell_type": "code",
   "execution_count": 36,
   "metadata": {},
   "outputs": [
    {
     "name": "stdout",
     "output_type": "stream",
     "text": [
      "No of rows dropped =  21175\n"
     ]
    }
   ],
   "source": [
    "df = df.dropna(how='any')\n",
    "b = len(df)\n",
    "print('No of rows dropped = ', a-b)"
   ]
  },
  {
   "cell_type": "code",
   "execution_count": 37,
   "metadata": {},
   "outputs": [
    {
     "data": {
      "text/plain": [
       "count    6.657390e+05\n",
       "mean     1.268008e+05\n",
       "std      4.326883e+05\n",
       "min      0.000000e+00\n",
       "25%      2.365900e+04\n",
       "50%      6.000000e+04\n",
       "75%      1.493790e+05\n",
       "max      1.283407e+08\n",
       "Name: Exposure, dtype: float64"
      ]
     },
     "execution_count": 37,
     "metadata": {},
     "output_type": "execute_result"
    }
   ],
   "source": [
    "df['Exposure'].describe()"
   ]
  },
  {
   "cell_type": "code",
   "execution_count": 38,
   "metadata": {},
   "outputs": [
    {
     "data": {
      "text/plain": [
       "count    665739.000000\n",
       "mean        -48.788419\n",
       "std         245.669484\n",
       "min        -999.000000\n",
       "25%           5.000000\n",
       "50%          11.000000\n",
       "75%          20.000000\n",
       "max         209.000000\n",
       "Name: Time with bank in months (-999 = new customer), dtype: float64"
      ]
     },
     "execution_count": 38,
     "metadata": {},
     "output_type": "execute_result"
    }
   ],
   "source": [
    "df['Time with bank in months (-999 = new customer)'].describe()"
   ]
  },
  {
   "cell_type": "code",
   "execution_count": 6,
   "metadata": {},
   "outputs": [
    {
     "name": "stdout",
     "output_type": "stream",
     "text": [
      "29397\n",
      "4.415694438811606\n"
     ]
    }
   ],
   "source": [
    "default2 = df[df['Default flag']==1]\n",
    "print(len(default2))\n",
    "print (len(default2)/len(df)*100)"
   ]
  },
  {
   "cell_type": "markdown",
   "metadata": {},
   "source": [
    "# Base Models (without Class Imbalance Correction)"
   ]
  },
  {
   "cell_type": "code",
   "execution_count": 46,
   "metadata": {},
   "outputs": [
    {
     "data": {
      "text/html": [
       "<div>\n",
       "<style>\n",
       "    .dataframe thead tr:only-child th {\n",
       "        text-align: right;\n",
       "    }\n",
       "\n",
       "    .dataframe thead th {\n",
       "        text-align: left;\n",
       "    }\n",
       "\n",
       "    .dataframe tbody tr th {\n",
       "        vertical-align: top;\n",
       "    }\n",
       "</style>\n",
       "<table border=\"1\" class=\"dataframe\">\n",
       "  <thead>\n",
       "    <tr style=\"text-align: right;\">\n",
       "      <th></th>\n",
       "      <th>Exposure</th>\n",
       "      <th>Time with bank in months (-999 = new customer)</th>\n",
       "      <th>financial statement type (es. Manufacturing, financial, real estate)_1.0</th>\n",
       "      <th>financial statement type (es. Manufacturing, financial, real estate)_2.0</th>\n",
       "      <th>financial statement type (es. Manufacturing, financial, real estate)_3.0</th>\n",
       "      <th>financial statement type (es. Manufacturing, financial, real estate)_4.0</th>\n",
       "      <th>financial statement type (es. Manufacturing, financial, real estate)_5.0</th>\n",
       "      <th>geographic area_CENTRO</th>\n",
       "      <th>geographic area_NORD EST</th>\n",
       "      <th>geographic area_NORD OVEST</th>\n",
       "      <th>geographic area_SUD ISOLE</th>\n",
       "      <th>Industry_Agricoltura</th>\n",
       "      <th>Industry_Altro</th>\n",
       "      <th>Industry_Artigianato</th>\n",
       "      <th>Industry_Commercio</th>\n",
       "      <th>Industry_Consumatori</th>\n",
       "      <th>Industry_Edilizia</th>\n",
       "      <th>Industry_Piccole imprese</th>\n",
       "      <th>Industry_Professionisti</th>\n",
       "      <th>Industry_Turismo</th>\n",
       "      <th>Industry 2_FOCUS</th>\n",
       "      <th>Industry 2_PROFESSIONAL</th>\n",
       "      <th>Type of counterparty_ALTRO</th>\n",
       "      <th>Type of counterparty_COOP</th>\n",
       "      <th>Type of counterparty_DITTA</th>\n",
       "      <th>Type of counterparty_SAS</th>\n",
       "      <th>Type of counterparty_SDF</th>\n",
       "      <th>Type of counterparty_SNC</th>\n",
       "      <th>Type of counterparty_SPA</th>\n",
       "      <th>Type of counterparty_SRL</th>\n",
       "      <th>Type of counterparty_SS</th>\n",
       "      <th>Date of observation_2013</th>\n",
       "      <th>Date of observation_2014</th>\n",
       "      <th>Date of observation_2015</th>\n",
       "    </tr>\n",
       "  </thead>\n",
       "  <tbody>\n",
       "    <tr>\n",
       "      <th>0</th>\n",
       "      <td>-0.208726</td>\n",
       "      <td>0.396710</td>\n",
       "      <td>0</td>\n",
       "      <td>0</td>\n",
       "      <td>1</td>\n",
       "      <td>0</td>\n",
       "      <td>0</td>\n",
       "      <td>0</td>\n",
       "      <td>0</td>\n",
       "      <td>0</td>\n",
       "      <td>1</td>\n",
       "      <td>0</td>\n",
       "      <td>0</td>\n",
       "      <td>0</td>\n",
       "      <td>0</td>\n",
       "      <td>0</td>\n",
       "      <td>1</td>\n",
       "      <td>0</td>\n",
       "      <td>0</td>\n",
       "      <td>0</td>\n",
       "      <td>1</td>\n",
       "      <td>0</td>\n",
       "      <td>0</td>\n",
       "      <td>0</td>\n",
       "      <td>1</td>\n",
       "      <td>0</td>\n",
       "      <td>0</td>\n",
       "      <td>0</td>\n",
       "      <td>0</td>\n",
       "      <td>0</td>\n",
       "      <td>0</td>\n",
       "      <td>1</td>\n",
       "      <td>0</td>\n",
       "      <td>0</td>\n",
       "    </tr>\n",
       "    <tr>\n",
       "      <th>1</th>\n",
       "      <td>-0.296869</td>\n",
       "      <td>-1.014198</td>\n",
       "      <td>0</td>\n",
       "      <td>0</td>\n",
       "      <td>0</td>\n",
       "      <td>1</td>\n",
       "      <td>0</td>\n",
       "      <td>0</td>\n",
       "      <td>0</td>\n",
       "      <td>0</td>\n",
       "      <td>1</td>\n",
       "      <td>0</td>\n",
       "      <td>0</td>\n",
       "      <td>0</td>\n",
       "      <td>0</td>\n",
       "      <td>0</td>\n",
       "      <td>0</td>\n",
       "      <td>0</td>\n",
       "      <td>1</td>\n",
       "      <td>0</td>\n",
       "      <td>0</td>\n",
       "      <td>1</td>\n",
       "      <td>0</td>\n",
       "      <td>0</td>\n",
       "      <td>1</td>\n",
       "      <td>0</td>\n",
       "      <td>0</td>\n",
       "      <td>0</td>\n",
       "      <td>0</td>\n",
       "      <td>0</td>\n",
       "      <td>0</td>\n",
       "      <td>1</td>\n",
       "      <td>0</td>\n",
       "      <td>0</td>\n",
       "    </tr>\n",
       "    <tr>\n",
       "      <th>2</th>\n",
       "      <td>-0.187235</td>\n",
       "      <td>0.619485</td>\n",
       "      <td>0</td>\n",
       "      <td>0</td>\n",
       "      <td>0</td>\n",
       "      <td>1</td>\n",
       "      <td>0</td>\n",
       "      <td>0</td>\n",
       "      <td>0</td>\n",
       "      <td>0</td>\n",
       "      <td>1</td>\n",
       "      <td>0</td>\n",
       "      <td>0</td>\n",
       "      <td>1</td>\n",
       "      <td>0</td>\n",
       "      <td>0</td>\n",
       "      <td>0</td>\n",
       "      <td>0</td>\n",
       "      <td>0</td>\n",
       "      <td>0</td>\n",
       "      <td>1</td>\n",
       "      <td>0</td>\n",
       "      <td>0</td>\n",
       "      <td>0</td>\n",
       "      <td>1</td>\n",
       "      <td>0</td>\n",
       "      <td>0</td>\n",
       "      <td>0</td>\n",
       "      <td>0</td>\n",
       "      <td>0</td>\n",
       "      <td>0</td>\n",
       "      <td>1</td>\n",
       "      <td>0</td>\n",
       "      <td>0</td>\n",
       "    </tr>\n",
       "    <tr>\n",
       "      <th>3</th>\n",
       "      <td>-0.219006</td>\n",
       "      <td>0.099677</td>\n",
       "      <td>1</td>\n",
       "      <td>0</td>\n",
       "      <td>0</td>\n",
       "      <td>0</td>\n",
       "      <td>0</td>\n",
       "      <td>0</td>\n",
       "      <td>0</td>\n",
       "      <td>0</td>\n",
       "      <td>1</td>\n",
       "      <td>0</td>\n",
       "      <td>0</td>\n",
       "      <td>1</td>\n",
       "      <td>0</td>\n",
       "      <td>0</td>\n",
       "      <td>0</td>\n",
       "      <td>0</td>\n",
       "      <td>0</td>\n",
       "      <td>0</td>\n",
       "      <td>1</td>\n",
       "      <td>0</td>\n",
       "      <td>0</td>\n",
       "      <td>0</td>\n",
       "      <td>1</td>\n",
       "      <td>0</td>\n",
       "      <td>0</td>\n",
       "      <td>0</td>\n",
       "      <td>0</td>\n",
       "      <td>0</td>\n",
       "      <td>0</td>\n",
       "      <td>1</td>\n",
       "      <td>0</td>\n",
       "      <td>0</td>\n",
       "    </tr>\n",
       "    <tr>\n",
       "      <th>4</th>\n",
       "      <td>-0.296869</td>\n",
       "      <td>-1.014198</td>\n",
       "      <td>0</td>\n",
       "      <td>0</td>\n",
       "      <td>0</td>\n",
       "      <td>1</td>\n",
       "      <td>0</td>\n",
       "      <td>0</td>\n",
       "      <td>0</td>\n",
       "      <td>0</td>\n",
       "      <td>1</td>\n",
       "      <td>0</td>\n",
       "      <td>0</td>\n",
       "      <td>0</td>\n",
       "      <td>0</td>\n",
       "      <td>0</td>\n",
       "      <td>0</td>\n",
       "      <td>0</td>\n",
       "      <td>1</td>\n",
       "      <td>0</td>\n",
       "      <td>0</td>\n",
       "      <td>1</td>\n",
       "      <td>0</td>\n",
       "      <td>0</td>\n",
       "      <td>1</td>\n",
       "      <td>0</td>\n",
       "      <td>0</td>\n",
       "      <td>0</td>\n",
       "      <td>0</td>\n",
       "      <td>0</td>\n",
       "      <td>0</td>\n",
       "      <td>1</td>\n",
       "      <td>0</td>\n",
       "      <td>0</td>\n",
       "    </tr>\n",
       "  </tbody>\n",
       "</table>\n",
       "</div>"
      ],
      "text/plain": [
       "   Exposure  Time with bank in months (-999 = new customer)  \\\n",
       "0 -0.208726                                        0.396710   \n",
       "1 -0.296869                                       -1.014198   \n",
       "2 -0.187235                                        0.619485   \n",
       "3 -0.219006                                        0.099677   \n",
       "4 -0.296869                                       -1.014198   \n",
       "\n",
       "   financial statement type (es. Manufacturing, financial, real estate)_1.0  \\\n",
       "0                                                  0                          \n",
       "1                                                  0                          \n",
       "2                                                  0                          \n",
       "3                                                  1                          \n",
       "4                                                  0                          \n",
       "\n",
       "   financial statement type (es. Manufacturing, financial, real estate)_2.0  \\\n",
       "0                                                  0                          \n",
       "1                                                  0                          \n",
       "2                                                  0                          \n",
       "3                                                  0                          \n",
       "4                                                  0                          \n",
       "\n",
       "   financial statement type (es. Manufacturing, financial, real estate)_3.0  \\\n",
       "0                                                  1                          \n",
       "1                                                  0                          \n",
       "2                                                  0                          \n",
       "3                                                  0                          \n",
       "4                                                  0                          \n",
       "\n",
       "   financial statement type (es. Manufacturing, financial, real estate)_4.0  \\\n",
       "0                                                  0                          \n",
       "1                                                  1                          \n",
       "2                                                  1                          \n",
       "3                                                  0                          \n",
       "4                                                  1                          \n",
       "\n",
       "   financial statement type (es. Manufacturing, financial, real estate)_5.0  \\\n",
       "0                                                  0                          \n",
       "1                                                  0                          \n",
       "2                                                  0                          \n",
       "3                                                  0                          \n",
       "4                                                  0                          \n",
       "\n",
       "   geographic area_CENTRO  geographic area_NORD EST  \\\n",
       "0                       0                         0   \n",
       "1                       0                         0   \n",
       "2                       0                         0   \n",
       "3                       0                         0   \n",
       "4                       0                         0   \n",
       "\n",
       "   geographic area_NORD OVEST  geographic area_SUD ISOLE  \\\n",
       "0                           0                          1   \n",
       "1                           0                          1   \n",
       "2                           0                          1   \n",
       "3                           0                          1   \n",
       "4                           0                          1   \n",
       "\n",
       "   Industry_Agricoltura  Industry_Altro  Industry_Artigianato  \\\n",
       "0                     0               0                     0   \n",
       "1                     0               0                     0   \n",
       "2                     0               0                     1   \n",
       "3                     0               0                     1   \n",
       "4                     0               0                     0   \n",
       "\n",
       "   Industry_Commercio  Industry_Consumatori  Industry_Edilizia  \\\n",
       "0                   0                     0                  1   \n",
       "1                   0                     0                  0   \n",
       "2                   0                     0                  0   \n",
       "3                   0                     0                  0   \n",
       "4                   0                     0                  0   \n",
       "\n",
       "   Industry_Piccole imprese  Industry_Professionisti  Industry_Turismo  \\\n",
       "0                         0                        0                 0   \n",
       "1                         0                        1                 0   \n",
       "2                         0                        0                 0   \n",
       "3                         0                        0                 0   \n",
       "4                         0                        1                 0   \n",
       "\n",
       "   Industry 2_FOCUS  Industry 2_PROFESSIONAL  Type of counterparty_ALTRO  \\\n",
       "0                 1                        0                           0   \n",
       "1                 0                        1                           0   \n",
       "2                 1                        0                           0   \n",
       "3                 1                        0                           0   \n",
       "4                 0                        1                           0   \n",
       "\n",
       "   Type of counterparty_COOP  Type of counterparty_DITTA  \\\n",
       "0                          0                           1   \n",
       "1                          0                           1   \n",
       "2                          0                           1   \n",
       "3                          0                           1   \n",
       "4                          0                           1   \n",
       "\n",
       "   Type of counterparty_SAS  Type of counterparty_SDF  \\\n",
       "0                         0                         0   \n",
       "1                         0                         0   \n",
       "2                         0                         0   \n",
       "3                         0                         0   \n",
       "4                         0                         0   \n",
       "\n",
       "   Type of counterparty_SNC  Type of counterparty_SPA  \\\n",
       "0                         0                         0   \n",
       "1                         0                         0   \n",
       "2                         0                         0   \n",
       "3                         0                         0   \n",
       "4                         0                         0   \n",
       "\n",
       "   Type of counterparty_SRL  Type of counterparty_SS  \\\n",
       "0                         0                        0   \n",
       "1                         0                        0   \n",
       "2                         0                        0   \n",
       "3                         0                        0   \n",
       "4                         0                        0   \n",
       "\n",
       "   Date of observation_2013  Date of observation_2014  \\\n",
       "0                         1                         0   \n",
       "1                         1                         0   \n",
       "2                         1                         0   \n",
       "3                         1                         0   \n",
       "4                         1                         0   \n",
       "\n",
       "   Date of observation_2015  \n",
       "0                         0  \n",
       "1                         0  \n",
       "2                         0  \n",
       "3                         0  \n",
       "4                         0  "
      ]
     },
     "execution_count": 46,
     "metadata": {},
     "output_type": "execute_result"
    }
   ],
   "source": [
    "df_target = df['Default flag']\n",
    "df = df.drop(['Default flag','counterparty ID'], axis = 1)\n",
    "\n",
    "min_max_scaler = preprocessing.StandardScaler()\n",
    "df['Time with bank in months (-999 = new customer)'] = df['Time with bank in months (-999 = new customer)'].replace(-999, 0)\n",
    "\n",
    "numericals = ['Exposure', 'Time with bank in months (-999 = new customer)']\n",
    "categoricals = ['financial statement type (es. Manufacturing, financial, real estate)', \n",
    "                'geographic area', 'Industry', 'Industry 2', 'Type of counterparty', 'Date of observation']\n",
    "\n",
    "for n in numericals:\n",
    "    mean = df[n].mean()\n",
    "    std = df[n].std()\n",
    "    df[n] = df[n].apply(lambda x: (x-mean)/std)\n",
    "    #x_scaled = min_max_scaler.fit_transform(df[[n]])\n",
    "    #x_scaled = pd.DataFrame(x_scaled)\n",
    "    #df = pd.concat([df, x_scaled], axis=1)\n",
    "    \n",
    "for c in categoricals:\n",
    "    dummies = pd.get_dummies(df[c], prefix = c) \n",
    "    df = pd.concat([df, dummies], axis=1)\n",
    "    \n",
    "    \n",
    "df = df.drop(['financial statement type (es. Manufacturing, financial, real estate)', 'geographic area', \n",
    "              'Industry', 'Industry 2', 'Type of counterparty', 'Date of observation'], axis = 1)\n",
    "df.head()"
   ]
  },
  {
   "cell_type": "code",
   "execution_count": 47,
   "metadata": {
    "collapsed": true
   },
   "outputs": [],
   "source": [
    "train_features, test_features, train_labels, test_labels = train_test_split(df, df_target, test_size = 0.25, \n",
    "                                                                            random_state = 42)"
   ]
  },
  {
   "cell_type": "code",
   "execution_count": 48,
   "metadata": {},
   "outputs": [
    {
     "name": "stdout",
     "output_type": "stream",
     "text": [
      "Fitting 3 folds for each of 7 candidates, totalling 21 fits\n",
      "[CV] C=0.001 .........................................................\n",
      "[CV] .......................................... C=0.001, total=   1.5s\n",
      "[CV] C=0.001 .........................................................\n"
     ]
    },
    {
     "name": "stderr",
     "output_type": "stream",
     "text": [
      "[Parallel(n_jobs=-1)]: Done   1 out of   1 | elapsed:    1.6s remaining:    0.0s\n"
     ]
    },
    {
     "name": "stdout",
     "output_type": "stream",
     "text": [
      "[CV] .......................................... C=0.001, total=   1.0s\n",
      "[CV] C=0.001 .........................................................\n",
      "[CV] .......................................... C=0.001, total=   1.1s\n",
      "[CV] C=0.01 ..........................................................\n",
      "[CV] ........................................... C=0.01, total=   1.2s\n",
      "[CV] C=0.01 ..........................................................\n",
      "[CV] ........................................... C=0.01, total=   1.7s\n",
      "[CV] C=0.01 ..........................................................\n",
      "[CV] ........................................... C=0.01, total=   1.3s\n",
      "[CV] C=0.1 ...........................................................\n",
      "[CV] ............................................ C=0.1, total=   1.9s\n",
      "[CV] C=0.1 ...........................................................\n",
      "[CV] ............................................ C=0.1, total=   2.0s\n",
      "[CV] C=0.1 ...........................................................\n",
      "[CV] ............................................ C=0.1, total=   1.8s\n",
      "[CV] C=1 .............................................................\n",
      "[CV] .............................................. C=1, total=   2.6s\n",
      "[CV] C=1 .............................................................\n",
      "[CV] .............................................. C=1, total=   2.1s\n",
      "[CV] C=1 .............................................................\n",
      "[CV] .............................................. C=1, total=   2.1s\n",
      "[CV] C=10 ............................................................\n",
      "[CV] ............................................. C=10, total=   2.2s\n",
      "[CV] C=10 ............................................................\n",
      "[CV] ............................................. C=10, total=   2.0s\n",
      "[CV] C=10 ............................................................\n",
      "[CV] ............................................. C=10, total=   2.7s\n",
      "[CV] C=100 ...........................................................\n",
      "[CV] ............................................ C=100, total=   2.0s\n",
      "[CV] C=100 ...........................................................\n",
      "[CV] ............................................ C=100, total=   2.5s\n",
      "[CV] C=100 ...........................................................\n",
      "[CV] ............................................ C=100, total=   2.5s\n",
      "[CV] C=1000 ..........................................................\n",
      "[CV] ........................................... C=1000, total=   2.4s\n",
      "[CV] C=1000 ..........................................................\n",
      "[CV] ........................................... C=1000, total=   2.0s\n",
      "[CV] C=1000 ..........................................................\n",
      "[CV] ........................................... C=1000, total=   2.3s\n"
     ]
    },
    {
     "name": "stderr",
     "output_type": "stream",
     "text": [
      "[Parallel(n_jobs=-1)]: Done  21 out of  21 | elapsed:   43.0s finished\n"
     ]
    },
    {
     "data": {
      "text/plain": [
       "{'C': 0.001}"
      ]
     },
     "execution_count": 48,
     "metadata": {},
     "output_type": "execute_result"
    }
   ],
   "source": [
    "# 1. Logistic Regression \n",
    "\n",
    "param_grid_lr = {'C': [0.001, 0.01, 0.1, 1, 10, 100, 1000] }\n",
    "\n",
    "lr = LogisticRegression(penalty='l2')\n",
    "\n",
    "grid_search_lr = GridSearchCV(estimator = lr, param_grid = param_grid_lr, \n",
    "                          cv = 3, n_jobs = -1, verbose = 2)\n",
    "\n",
    "grid_search_lr.fit(train_features, train_labels)\n",
    "\n",
    "grid_search_lr.best_params_"
   ]
  },
  {
   "cell_type": "code",
   "execution_count": 85,
   "metadata": {},
   "outputs": [
    {
     "name": "stdout",
     "output_type": "stream",
     "text": [
      "Logistic Regression (Base Model)\n",
      "Ginni Coeff:  0.20104197272156554\n",
      "Precision:  0.4780118675354774\n",
      "Recall: 0.5\n",
      "Confusion Matrix:\n"
     ]
    },
    {
     "name": "stderr",
     "output_type": "stream",
     "text": [
      "/home/mohilbajaj2002/anaconda3/lib/python3.6/site-packages/sklearn/metrics/classification.py:1135: UndefinedMetricWarning: Precision is ill-defined and being set to 0.0 in labels with no predicted samples.\n",
      "  'precision', 'predicted', average, warn_for)\n"
     ]
    },
    {
     "name": "stdout",
     "output_type": "stream",
     "text": [
      "[[164177      0]\n",
      " [  7552      0]]\n"
     ]
    }
   ],
   "source": [
    "best_lr_model = grid_search_lr.best_estimator_\n",
    "pred = best_lr_model.predict_proba(test_features)[:,1]\n",
    "pred_binary = best_lr_model.predict(test_features)\n",
    "ginni = 2*roc_auc_score(test_labels, pred) - 1\n",
    "\n",
    "print ('Logistic Regression (Base Model)')\n",
    "print('Ginni Coeff: ', ginni)\n",
    "print('Precision: ', precision_score(test_labels, pred_binary, average=\"macro\"))\n",
    "print('Recall:', recall_score(test_labels, pred_binary, average=\"macro\")) \n",
    "print('Confusion Matrix:')\n",
    "print(confusion_matrix(test_labels, pred_binary))"
   ]
  },
  {
   "cell_type": "code",
   "execution_count": 56,
   "metadata": {},
   "outputs": [
    {
     "name": "stdout",
     "output_type": "stream",
     "text": [
      "Fitting 3 folds for each of 48 candidates, totalling 144 fits\n",
      "[CV] max_depth=1, max_features=auto, min_samples_leaf=3000, n_estimators=100 \n",
      "[CV]  max_depth=1, max_features=auto, min_samples_leaf=3000, n_estimators=100, total=   6.2s\n",
      "[CV] max_depth=1, max_features=auto, min_samples_leaf=3000, n_estimators=100 \n"
     ]
    },
    {
     "name": "stderr",
     "output_type": "stream",
     "text": [
      "[Parallel(n_jobs=-1)]: Done   1 out of   1 | elapsed:    7.5s remaining:    0.0s\n"
     ]
    },
    {
     "name": "stdout",
     "output_type": "stream",
     "text": [
      "[CV]  max_depth=1, max_features=auto, min_samples_leaf=3000, n_estimators=100, total=   6.2s\n",
      "[CV] max_depth=1, max_features=auto, min_samples_leaf=3000, n_estimators=100 \n",
      "[CV]  max_depth=1, max_features=auto, min_samples_leaf=3000, n_estimators=100, total=   6.0s\n",
      "[CV] max_depth=1, max_features=auto, min_samples_leaf=3000, n_estimators=250 \n",
      "[CV]  max_depth=1, max_features=auto, min_samples_leaf=3000, n_estimators=250, total=  18.2s\n",
      "[CV] max_depth=1, max_features=auto, min_samples_leaf=3000, n_estimators=250 \n",
      "[CV]  max_depth=1, max_features=auto, min_samples_leaf=3000, n_estimators=250, total=  18.6s\n",
      "[CV] max_depth=1, max_features=auto, min_samples_leaf=3000, n_estimators=250 \n",
      "[CV]  max_depth=1, max_features=auto, min_samples_leaf=3000, n_estimators=250, total=  16.9s\n",
      "[CV] max_depth=1, max_features=auto, min_samples_leaf=3000, n_estimators=500 \n",
      "[CV]  max_depth=1, max_features=auto, min_samples_leaf=3000, n_estimators=500, total=  34.8s\n",
      "[CV] max_depth=1, max_features=auto, min_samples_leaf=3000, n_estimators=500 \n",
      "[CV]  max_depth=1, max_features=auto, min_samples_leaf=3000, n_estimators=500, total=  36.2s\n",
      "[CV] max_depth=1, max_features=auto, min_samples_leaf=3000, n_estimators=500 \n",
      "[CV]  max_depth=1, max_features=auto, min_samples_leaf=3000, n_estimators=500, total=  38.8s\n",
      "[CV] max_depth=1, max_features=auto, min_samples_leaf=3000, n_estimators=1000 \n",
      "[CV]  max_depth=1, max_features=auto, min_samples_leaf=3000, n_estimators=1000, total= 1.3min\n",
      "[CV] max_depth=1, max_features=auto, min_samples_leaf=3000, n_estimators=1000 \n",
      "[CV]  max_depth=1, max_features=auto, min_samples_leaf=3000, n_estimators=1000, total= 1.2min\n",
      "[CV] max_depth=1, max_features=auto, min_samples_leaf=3000, n_estimators=1000 \n",
      "[CV]  max_depth=1, max_features=auto, min_samples_leaf=3000, n_estimators=1000, total= 1.2min\n",
      "[CV] max_depth=1, max_features=auto, min_samples_leaf=5000, n_estimators=100 \n",
      "[CV]  max_depth=1, max_features=auto, min_samples_leaf=5000, n_estimators=100, total=   6.2s\n",
      "[CV] max_depth=1, max_features=auto, min_samples_leaf=5000, n_estimators=100 \n",
      "[CV]  max_depth=1, max_features=auto, min_samples_leaf=5000, n_estimators=100, total=   6.5s\n",
      "[CV] max_depth=1, max_features=auto, min_samples_leaf=5000, n_estimators=100 \n",
      "[CV]  max_depth=1, max_features=auto, min_samples_leaf=5000, n_estimators=100, total=   6.2s\n",
      "[CV] max_depth=1, max_features=auto, min_samples_leaf=5000, n_estimators=250 \n",
      "[CV]  max_depth=1, max_features=auto, min_samples_leaf=5000, n_estimators=250, total=  17.5s\n",
      "[CV] max_depth=1, max_features=auto, min_samples_leaf=5000, n_estimators=250 \n",
      "[CV]  max_depth=1, max_features=auto, min_samples_leaf=5000, n_estimators=250, total=  18.0s\n",
      "[CV] max_depth=1, max_features=auto, min_samples_leaf=5000, n_estimators=250 \n",
      "[CV]  max_depth=1, max_features=auto, min_samples_leaf=5000, n_estimators=250, total=  19.3s\n",
      "[CV] max_depth=1, max_features=auto, min_samples_leaf=5000, n_estimators=500 \n",
      "[CV]  max_depth=1, max_features=auto, min_samples_leaf=5000, n_estimators=500, total=  39.7s\n",
      "[CV] max_depth=1, max_features=auto, min_samples_leaf=5000, n_estimators=500 \n",
      "[CV]  max_depth=1, max_features=auto, min_samples_leaf=5000, n_estimators=500, total=  40.6s\n",
      "[CV] max_depth=1, max_features=auto, min_samples_leaf=5000, n_estimators=500 \n",
      "[CV]  max_depth=1, max_features=auto, min_samples_leaf=5000, n_estimators=500, total=  41.0s\n",
      "[CV] max_depth=1, max_features=auto, min_samples_leaf=5000, n_estimators=1000 \n",
      "[CV]  max_depth=1, max_features=auto, min_samples_leaf=5000, n_estimators=1000, total= 1.4min\n",
      "[CV] max_depth=1, max_features=auto, min_samples_leaf=5000, n_estimators=1000 \n",
      "[CV]  max_depth=1, max_features=auto, min_samples_leaf=5000, n_estimators=1000, total= 2.1min\n",
      "[CV] max_depth=1, max_features=auto, min_samples_leaf=5000, n_estimators=1000 \n",
      "[CV]  max_depth=1, max_features=auto, min_samples_leaf=5000, n_estimators=1000, total= 1.6min\n",
      "[CV] max_depth=1, max_features=auto, min_samples_leaf=10000, n_estimators=100 \n",
      "[CV]  max_depth=1, max_features=auto, min_samples_leaf=10000, n_estimators=100, total=  10.4s\n",
      "[CV] max_depth=1, max_features=auto, min_samples_leaf=10000, n_estimators=100 \n",
      "[CV]  max_depth=1, max_features=auto, min_samples_leaf=10000, n_estimators=100, total=  10.4s\n",
      "[CV] max_depth=1, max_features=auto, min_samples_leaf=10000, n_estimators=100 \n",
      "[CV]  max_depth=1, max_features=auto, min_samples_leaf=10000, n_estimators=100, total=  10.5s\n",
      "[CV] max_depth=1, max_features=auto, min_samples_leaf=10000, n_estimators=250 \n",
      "[CV]  max_depth=1, max_features=auto, min_samples_leaf=10000, n_estimators=250, total=  25.4s\n",
      "[CV] max_depth=1, max_features=auto, min_samples_leaf=10000, n_estimators=250 \n",
      "[CV]  max_depth=1, max_features=auto, min_samples_leaf=10000, n_estimators=250, total=  26.2s\n",
      "[CV] max_depth=1, max_features=auto, min_samples_leaf=10000, n_estimators=250 \n",
      "[CV]  max_depth=1, max_features=auto, min_samples_leaf=10000, n_estimators=250, total=  27.1s\n",
      "[CV] max_depth=1, max_features=auto, min_samples_leaf=10000, n_estimators=500 \n",
      "[CV]  max_depth=1, max_features=auto, min_samples_leaf=10000, n_estimators=500, total=  52.8s\n",
      "[CV] max_depth=1, max_features=auto, min_samples_leaf=10000, n_estimators=500 \n",
      "[CV]  max_depth=1, max_features=auto, min_samples_leaf=10000, n_estimators=500, total=  55.8s\n",
      "[CV] max_depth=1, max_features=auto, min_samples_leaf=10000, n_estimators=500 \n",
      "[CV]  max_depth=1, max_features=auto, min_samples_leaf=10000, n_estimators=500, total=  53.7s\n",
      "[CV] max_depth=1, max_features=auto, min_samples_leaf=10000, n_estimators=1000 \n",
      "[CV]  max_depth=1, max_features=auto, min_samples_leaf=10000, n_estimators=1000, total= 1.9min\n",
      "[CV] max_depth=1, max_features=auto, min_samples_leaf=10000, n_estimators=1000 \n",
      "[CV]  max_depth=1, max_features=auto, min_samples_leaf=10000, n_estimators=1000, total= 1.8min\n",
      "[CV] max_depth=1, max_features=auto, min_samples_leaf=10000, n_estimators=1000 \n",
      "[CV]  max_depth=1, max_features=auto, min_samples_leaf=10000, n_estimators=1000, total= 1.3min\n",
      "[CV] max_depth=5, max_features=auto, min_samples_leaf=3000, n_estimators=100 \n",
      "[CV]  max_depth=5, max_features=auto, min_samples_leaf=3000, n_estimators=100, total=  15.9s\n",
      "[CV] max_depth=5, max_features=auto, min_samples_leaf=3000, n_estimators=100 \n",
      "[CV]  max_depth=5, max_features=auto, min_samples_leaf=3000, n_estimators=100, total=  19.4s\n",
      "[CV] max_depth=5, max_features=auto, min_samples_leaf=3000, n_estimators=100 \n",
      "[CV]  max_depth=5, max_features=auto, min_samples_leaf=3000, n_estimators=100, total=  18.3s\n",
      "[CV] max_depth=5, max_features=auto, min_samples_leaf=3000, n_estimators=250 \n",
      "[CV]  max_depth=5, max_features=auto, min_samples_leaf=3000, n_estimators=250, total= 1.1min\n",
      "[CV] max_depth=5, max_features=auto, min_samples_leaf=3000, n_estimators=250 \n",
      "[CV]  max_depth=5, max_features=auto, min_samples_leaf=3000, n_estimators=250, total=  46.1s\n",
      "[CV] max_depth=5, max_features=auto, min_samples_leaf=3000, n_estimators=250 \n",
      "[CV]  max_depth=5, max_features=auto, min_samples_leaf=3000, n_estimators=250, total=  46.6s\n",
      "[CV] max_depth=5, max_features=auto, min_samples_leaf=3000, n_estimators=500 \n",
      "[CV]  max_depth=5, max_features=auto, min_samples_leaf=3000, n_estimators=500, total= 1.6min\n",
      "[CV] max_depth=5, max_features=auto, min_samples_leaf=3000, n_estimators=500 \n",
      "[CV]  max_depth=5, max_features=auto, min_samples_leaf=3000, n_estimators=500, total= 1.6min\n",
      "[CV] max_depth=5, max_features=auto, min_samples_leaf=3000, n_estimators=500 \n",
      "[CV]  max_depth=5, max_features=auto, min_samples_leaf=3000, n_estimators=500, total= 1.9min\n",
      "[CV] max_depth=5, max_features=auto, min_samples_leaf=3000, n_estimators=1000 \n",
      "[CV]  max_depth=5, max_features=auto, min_samples_leaf=3000, n_estimators=1000, total= 5.7min\n",
      "[CV] max_depth=5, max_features=auto, min_samples_leaf=3000, n_estimators=1000 \n",
      "[CV]  max_depth=5, max_features=auto, min_samples_leaf=3000, n_estimators=1000, total= 4.7min\n",
      "[CV] max_depth=5, max_features=auto, min_samples_leaf=3000, n_estimators=1000 \n",
      "[CV]  max_depth=5, max_features=auto, min_samples_leaf=3000, n_estimators=1000, total= 5.5min\n",
      "[CV] max_depth=5, max_features=auto, min_samples_leaf=5000, n_estimators=100 \n",
      "[CV]  max_depth=5, max_features=auto, min_samples_leaf=5000, n_estimators=100, total=  17.7s\n",
      "[CV] max_depth=5, max_features=auto, min_samples_leaf=5000, n_estimators=100 \n"
     ]
    },
    {
     "name": "stdout",
     "output_type": "stream",
     "text": [
      "[CV]  max_depth=5, max_features=auto, min_samples_leaf=5000, n_estimators=100, total=  16.6s\n",
      "[CV] max_depth=5, max_features=auto, min_samples_leaf=5000, n_estimators=100 \n",
      "[CV]  max_depth=5, max_features=auto, min_samples_leaf=5000, n_estimators=100, total=  23.4s\n",
      "[CV] max_depth=5, max_features=auto, min_samples_leaf=5000, n_estimators=250 \n",
      "[CV]  max_depth=5, max_features=auto, min_samples_leaf=5000, n_estimators=250, total=  54.3s\n",
      "[CV] max_depth=5, max_features=auto, min_samples_leaf=5000, n_estimators=250 \n",
      "[CV]  max_depth=5, max_features=auto, min_samples_leaf=5000, n_estimators=250, total= 1.1min\n",
      "[CV] max_depth=5, max_features=auto, min_samples_leaf=5000, n_estimators=250 \n",
      "[CV]  max_depth=5, max_features=auto, min_samples_leaf=5000, n_estimators=250, total= 1.2min\n",
      "[CV] max_depth=5, max_features=auto, min_samples_leaf=5000, n_estimators=500 \n",
      "[CV]  max_depth=5, max_features=auto, min_samples_leaf=5000, n_estimators=500, total= 1.3min\n",
      "[CV] max_depth=5, max_features=auto, min_samples_leaf=5000, n_estimators=500 \n",
      "[CV]  max_depth=5, max_features=auto, min_samples_leaf=5000, n_estimators=500, total= 1.3min\n",
      "[CV] max_depth=5, max_features=auto, min_samples_leaf=5000, n_estimators=500 \n",
      "[CV]  max_depth=5, max_features=auto, min_samples_leaf=5000, n_estimators=500, total= 1.3min\n",
      "[CV] max_depth=5, max_features=auto, min_samples_leaf=5000, n_estimators=1000 \n",
      "[CV]  max_depth=5, max_features=auto, min_samples_leaf=5000, n_estimators=1000, total= 2.6min\n",
      "[CV] max_depth=5, max_features=auto, min_samples_leaf=5000, n_estimators=1000 \n",
      "[CV]  max_depth=5, max_features=auto, min_samples_leaf=5000, n_estimators=1000, total= 2.6min\n",
      "[CV] max_depth=5, max_features=auto, min_samples_leaf=5000, n_estimators=1000 \n",
      "[CV]  max_depth=5, max_features=auto, min_samples_leaf=5000, n_estimators=1000, total= 2.7min\n",
      "[CV] max_depth=5, max_features=auto, min_samples_leaf=10000, n_estimators=100 \n",
      "[CV]  max_depth=5, max_features=auto, min_samples_leaf=10000, n_estimators=100, total=  14.1s\n",
      "[CV] max_depth=5, max_features=auto, min_samples_leaf=10000, n_estimators=100 \n",
      "[CV]  max_depth=5, max_features=auto, min_samples_leaf=10000, n_estimators=100, total=  14.7s\n",
      "[CV] max_depth=5, max_features=auto, min_samples_leaf=10000, n_estimators=100 \n",
      "[CV]  max_depth=5, max_features=auto, min_samples_leaf=10000, n_estimators=100, total=  15.6s\n",
      "[CV] max_depth=5, max_features=auto, min_samples_leaf=10000, n_estimators=250 \n",
      "[CV]  max_depth=5, max_features=auto, min_samples_leaf=10000, n_estimators=250, total=  38.6s\n",
      "[CV] max_depth=5, max_features=auto, min_samples_leaf=10000, n_estimators=250 \n",
      "[CV]  max_depth=5, max_features=auto, min_samples_leaf=10000, n_estimators=250, total=  37.7s\n",
      "[CV] max_depth=5, max_features=auto, min_samples_leaf=10000, n_estimators=250 \n",
      "[CV]  max_depth=5, max_features=auto, min_samples_leaf=10000, n_estimators=250, total=  37.8s\n",
      "[CV] max_depth=5, max_features=auto, min_samples_leaf=10000, n_estimators=500 \n",
      "[CV]  max_depth=5, max_features=auto, min_samples_leaf=10000, n_estimators=500, total= 1.3min\n",
      "[CV] max_depth=5, max_features=auto, min_samples_leaf=10000, n_estimators=500 \n",
      "[CV]  max_depth=5, max_features=auto, min_samples_leaf=10000, n_estimators=500, total= 1.6min\n",
      "[CV] max_depth=5, max_features=auto, min_samples_leaf=10000, n_estimators=500 \n",
      "[CV]  max_depth=5, max_features=auto, min_samples_leaf=10000, n_estimators=500, total= 1.8min\n",
      "[CV] max_depth=5, max_features=auto, min_samples_leaf=10000, n_estimators=1000 \n",
      "[CV]  max_depth=5, max_features=auto, min_samples_leaf=10000, n_estimators=1000, total= 3.7min\n",
      "[CV] max_depth=5, max_features=auto, min_samples_leaf=10000, n_estimators=1000 \n",
      "[CV]  max_depth=5, max_features=auto, min_samples_leaf=10000, n_estimators=1000, total= 3.2min\n",
      "[CV] max_depth=5, max_features=auto, min_samples_leaf=10000, n_estimators=1000 \n",
      "[CV]  max_depth=5, max_features=auto, min_samples_leaf=10000, n_estimators=1000, total= 2.3min\n",
      "[CV] max_depth=25, max_features=auto, min_samples_leaf=3000, n_estimators=100 \n",
      "[CV]  max_depth=25, max_features=auto, min_samples_leaf=3000, n_estimators=100, total=  21.1s\n",
      "[CV] max_depth=25, max_features=auto, min_samples_leaf=3000, n_estimators=100 \n",
      "[CV]  max_depth=25, max_features=auto, min_samples_leaf=3000, n_estimators=100, total=  21.0s\n",
      "[CV] max_depth=25, max_features=auto, min_samples_leaf=3000, n_estimators=100 \n",
      "[CV]  max_depth=25, max_features=auto, min_samples_leaf=3000, n_estimators=100, total=  21.0s\n",
      "[CV] max_depth=25, max_features=auto, min_samples_leaf=3000, n_estimators=250 \n",
      "[CV]  max_depth=25, max_features=auto, min_samples_leaf=3000, n_estimators=250, total=  52.2s\n",
      "[CV] max_depth=25, max_features=auto, min_samples_leaf=3000, n_estimators=250 \n",
      "[CV]  max_depth=25, max_features=auto, min_samples_leaf=3000, n_estimators=250, total=  53.9s\n",
      "[CV] max_depth=25, max_features=auto, min_samples_leaf=3000, n_estimators=250 \n",
      "[CV]  max_depth=25, max_features=auto, min_samples_leaf=3000, n_estimators=250, total=  53.0s\n",
      "[CV] max_depth=25, max_features=auto, min_samples_leaf=3000, n_estimators=500 \n",
      "[CV]  max_depth=25, max_features=auto, min_samples_leaf=3000, n_estimators=500, total= 1.8min\n",
      "[CV] max_depth=25, max_features=auto, min_samples_leaf=3000, n_estimators=500 \n",
      "[CV]  max_depth=25, max_features=auto, min_samples_leaf=3000, n_estimators=500, total= 1.8min\n",
      "[CV] max_depth=25, max_features=auto, min_samples_leaf=3000, n_estimators=500 \n",
      "[CV]  max_depth=25, max_features=auto, min_samples_leaf=3000, n_estimators=500, total= 1.8min\n",
      "[CV] max_depth=25, max_features=auto, min_samples_leaf=3000, n_estimators=1000 \n",
      "[CV]  max_depth=25, max_features=auto, min_samples_leaf=3000, n_estimators=1000, total= 3.5min\n",
      "[CV] max_depth=25, max_features=auto, min_samples_leaf=3000, n_estimators=1000 \n",
      "[CV]  max_depth=25, max_features=auto, min_samples_leaf=3000, n_estimators=1000, total= 3.5min\n",
      "[CV] max_depth=25, max_features=auto, min_samples_leaf=3000, n_estimators=1000 \n",
      "[CV]  max_depth=25, max_features=auto, min_samples_leaf=3000, n_estimators=1000, total= 3.5min\n",
      "[CV] max_depth=25, max_features=auto, min_samples_leaf=5000, n_estimators=100 \n",
      "[CV]  max_depth=25, max_features=auto, min_samples_leaf=5000, n_estimators=100, total=  18.3s\n",
      "[CV] max_depth=25, max_features=auto, min_samples_leaf=5000, n_estimators=100 \n",
      "[CV]  max_depth=25, max_features=auto, min_samples_leaf=5000, n_estimators=100, total=  18.3s\n",
      "[CV] max_depth=25, max_features=auto, min_samples_leaf=5000, n_estimators=100 \n",
      "[CV]  max_depth=25, max_features=auto, min_samples_leaf=5000, n_estimators=100, total=  18.9s\n",
      "[CV] max_depth=25, max_features=auto, min_samples_leaf=5000, n_estimators=250 \n",
      "[CV]  max_depth=25, max_features=auto, min_samples_leaf=5000, n_estimators=250, total=  47.2s\n",
      "[CV] max_depth=25, max_features=auto, min_samples_leaf=5000, n_estimators=250 \n",
      "[CV]  max_depth=25, max_features=auto, min_samples_leaf=5000, n_estimators=250, total=  45.7s\n",
      "[CV] max_depth=25, max_features=auto, min_samples_leaf=5000, n_estimators=250 \n",
      "[CV]  max_depth=25, max_features=auto, min_samples_leaf=5000, n_estimators=250, total=  45.5s\n",
      "[CV] max_depth=25, max_features=auto, min_samples_leaf=5000, n_estimators=500 \n",
      "[CV]  max_depth=25, max_features=auto, min_samples_leaf=5000, n_estimators=500, total= 1.6min\n",
      "[CV] max_depth=25, max_features=auto, min_samples_leaf=5000, n_estimators=500 \n",
      "[CV]  max_depth=25, max_features=auto, min_samples_leaf=5000, n_estimators=500, total= 1.5min\n",
      "[CV] max_depth=25, max_features=auto, min_samples_leaf=5000, n_estimators=500 \n",
      "[CV]  max_depth=25, max_features=auto, min_samples_leaf=5000, n_estimators=500, total= 1.6min\n",
      "[CV] max_depth=25, max_features=auto, min_samples_leaf=5000, n_estimators=1000 \n",
      "[CV]  max_depth=25, max_features=auto, min_samples_leaf=5000, n_estimators=1000, total= 3.1min\n",
      "[CV] max_depth=25, max_features=auto, min_samples_leaf=5000, n_estimators=1000 \n",
      "[CV]  max_depth=25, max_features=auto, min_samples_leaf=5000, n_estimators=1000, total= 3.1min\n",
      "[CV] max_depth=25, max_features=auto, min_samples_leaf=5000, n_estimators=1000 \n",
      "[CV]  max_depth=25, max_features=auto, min_samples_leaf=5000, n_estimators=1000, total= 3.1min\n",
      "[CV] max_depth=25, max_features=auto, min_samples_leaf=10000, n_estimators=100 \n",
      "[CV]  max_depth=25, max_features=auto, min_samples_leaf=10000, n_estimators=100, total=  15.8s\n",
      "[CV] max_depth=25, max_features=auto, min_samples_leaf=10000, n_estimators=100 \n"
     ]
    },
    {
     "name": "stdout",
     "output_type": "stream",
     "text": [
      "[CV]  max_depth=25, max_features=auto, min_samples_leaf=10000, n_estimators=100, total=  15.2s\n",
      "[CV] max_depth=25, max_features=auto, min_samples_leaf=10000, n_estimators=100 \n",
      "[CV]  max_depth=25, max_features=auto, min_samples_leaf=10000, n_estimators=100, total=  15.2s\n",
      "[CV] max_depth=25, max_features=auto, min_samples_leaf=10000, n_estimators=250 \n",
      "[CV]  max_depth=25, max_features=auto, min_samples_leaf=10000, n_estimators=250, total=  37.6s\n",
      "[CV] max_depth=25, max_features=auto, min_samples_leaf=10000, n_estimators=250 \n",
      "[CV]  max_depth=25, max_features=auto, min_samples_leaf=10000, n_estimators=250, total=  37.5s\n",
      "[CV] max_depth=25, max_features=auto, min_samples_leaf=10000, n_estimators=250 \n",
      "[CV]  max_depth=25, max_features=auto, min_samples_leaf=10000, n_estimators=250, total=  37.6s\n",
      "[CV] max_depth=25, max_features=auto, min_samples_leaf=10000, n_estimators=500 \n",
      "[CV]  max_depth=25, max_features=auto, min_samples_leaf=10000, n_estimators=500, total= 1.3min\n",
      "[CV] max_depth=25, max_features=auto, min_samples_leaf=10000, n_estimators=500 \n",
      "[CV]  max_depth=25, max_features=auto, min_samples_leaf=10000, n_estimators=500, total= 1.3min\n",
      "[CV] max_depth=25, max_features=auto, min_samples_leaf=10000, n_estimators=500 \n",
      "[CV]  max_depth=25, max_features=auto, min_samples_leaf=10000, n_estimators=500, total= 1.3min\n",
      "[CV] max_depth=25, max_features=auto, min_samples_leaf=10000, n_estimators=1000 \n",
      "[CV]  max_depth=25, max_features=auto, min_samples_leaf=10000, n_estimators=1000, total= 2.5min\n",
      "[CV] max_depth=25, max_features=auto, min_samples_leaf=10000, n_estimators=1000 \n",
      "[CV]  max_depth=25, max_features=auto, min_samples_leaf=10000, n_estimators=1000, total= 2.5min\n",
      "[CV] max_depth=25, max_features=auto, min_samples_leaf=10000, n_estimators=1000 \n",
      "[CV]  max_depth=25, max_features=auto, min_samples_leaf=10000, n_estimators=1000, total= 2.5min\n",
      "[CV] max_depth=50, max_features=auto, min_samples_leaf=3000, n_estimators=100 \n",
      "[CV]  max_depth=50, max_features=auto, min_samples_leaf=3000, n_estimators=100, total=  21.1s\n",
      "[CV] max_depth=50, max_features=auto, min_samples_leaf=3000, n_estimators=100 \n",
      "[CV]  max_depth=50, max_features=auto, min_samples_leaf=3000, n_estimators=100, total=  20.9s\n",
      "[CV] max_depth=50, max_features=auto, min_samples_leaf=3000, n_estimators=100 \n",
      "[CV]  max_depth=50, max_features=auto, min_samples_leaf=3000, n_estimators=100, total=  21.7s\n",
      "[CV] max_depth=50, max_features=auto, min_samples_leaf=3000, n_estimators=250 \n",
      "[CV]  max_depth=50, max_features=auto, min_samples_leaf=3000, n_estimators=250, total=  51.7s\n",
      "[CV] max_depth=50, max_features=auto, min_samples_leaf=3000, n_estimators=250 \n",
      "[CV]  max_depth=50, max_features=auto, min_samples_leaf=3000, n_estimators=250, total=  51.9s\n",
      "[CV] max_depth=50, max_features=auto, min_samples_leaf=3000, n_estimators=250 \n",
      "[CV]  max_depth=50, max_features=auto, min_samples_leaf=3000, n_estimators=250, total=  52.5s\n",
      "[CV] max_depth=50, max_features=auto, min_samples_leaf=3000, n_estimators=500 \n",
      "[CV]  max_depth=50, max_features=auto, min_samples_leaf=3000, n_estimators=500, total= 1.8min\n",
      "[CV] max_depth=50, max_features=auto, min_samples_leaf=3000, n_estimators=500 \n",
      "[CV]  max_depth=50, max_features=auto, min_samples_leaf=3000, n_estimators=500, total= 1.7min\n",
      "[CV] max_depth=50, max_features=auto, min_samples_leaf=3000, n_estimators=500 \n",
      "[CV]  max_depth=50, max_features=auto, min_samples_leaf=3000, n_estimators=500, total= 1.8min\n",
      "[CV] max_depth=50, max_features=auto, min_samples_leaf=3000, n_estimators=1000 \n",
      "[CV]  max_depth=50, max_features=auto, min_samples_leaf=3000, n_estimators=1000, total= 3.6min\n",
      "[CV] max_depth=50, max_features=auto, min_samples_leaf=3000, n_estimators=1000 \n",
      "[CV]  max_depth=50, max_features=auto, min_samples_leaf=3000, n_estimators=1000, total= 3.5min\n",
      "[CV] max_depth=50, max_features=auto, min_samples_leaf=3000, n_estimators=1000 \n",
      "[CV]  max_depth=50, max_features=auto, min_samples_leaf=3000, n_estimators=1000, total= 3.5min\n",
      "[CV] max_depth=50, max_features=auto, min_samples_leaf=5000, n_estimators=100 \n",
      "[CV]  max_depth=50, max_features=auto, min_samples_leaf=5000, n_estimators=100, total=  18.9s\n",
      "[CV] max_depth=50, max_features=auto, min_samples_leaf=5000, n_estimators=100 \n",
      "[CV]  max_depth=50, max_features=auto, min_samples_leaf=5000, n_estimators=100, total=  18.5s\n",
      "[CV] max_depth=50, max_features=auto, min_samples_leaf=5000, n_estimators=100 \n",
      "[CV]  max_depth=50, max_features=auto, min_samples_leaf=5000, n_estimators=100, total=  18.8s\n",
      "[CV] max_depth=50, max_features=auto, min_samples_leaf=5000, n_estimators=250 \n",
      "[CV]  max_depth=50, max_features=auto, min_samples_leaf=5000, n_estimators=250, total=  45.4s\n",
      "[CV] max_depth=50, max_features=auto, min_samples_leaf=5000, n_estimators=250 \n",
      "[CV]  max_depth=50, max_features=auto, min_samples_leaf=5000, n_estimators=250, total=  45.1s\n",
      "[CV] max_depth=50, max_features=auto, min_samples_leaf=5000, n_estimators=250 \n",
      "[CV]  max_depth=50, max_features=auto, min_samples_leaf=5000, n_estimators=250, total=  46.5s\n",
      "[CV] max_depth=50, max_features=auto, min_samples_leaf=5000, n_estimators=500 \n",
      "[CV]  max_depth=50, max_features=auto, min_samples_leaf=5000, n_estimators=500, total= 1.6min\n",
      "[CV] max_depth=50, max_features=auto, min_samples_leaf=5000, n_estimators=500 \n",
      "[CV]  max_depth=50, max_features=auto, min_samples_leaf=5000, n_estimators=500, total= 1.5min\n",
      "[CV] max_depth=50, max_features=auto, min_samples_leaf=5000, n_estimators=500 \n",
      "[CV]  max_depth=50, max_features=auto, min_samples_leaf=5000, n_estimators=500, total= 1.5min\n",
      "[CV] max_depth=50, max_features=auto, min_samples_leaf=5000, n_estimators=1000 \n",
      "[CV]  max_depth=50, max_features=auto, min_samples_leaf=5000, n_estimators=1000, total= 3.1min\n",
      "[CV] max_depth=50, max_features=auto, min_samples_leaf=5000, n_estimators=1000 \n",
      "[CV]  max_depth=50, max_features=auto, min_samples_leaf=5000, n_estimators=1000, total= 3.0min\n",
      "[CV] max_depth=50, max_features=auto, min_samples_leaf=5000, n_estimators=1000 \n",
      "[CV]  max_depth=50, max_features=auto, min_samples_leaf=5000, n_estimators=1000, total= 3.1min\n",
      "[CV] max_depth=50, max_features=auto, min_samples_leaf=10000, n_estimators=100 \n",
      "[CV]  max_depth=50, max_features=auto, min_samples_leaf=10000, n_estimators=100, total=  15.3s\n",
      "[CV] max_depth=50, max_features=auto, min_samples_leaf=10000, n_estimators=100 \n",
      "[CV]  max_depth=50, max_features=auto, min_samples_leaf=10000, n_estimators=100, total=  15.3s\n",
      "[CV] max_depth=50, max_features=auto, min_samples_leaf=10000, n_estimators=100 \n",
      "[CV]  max_depth=50, max_features=auto, min_samples_leaf=10000, n_estimators=100, total=  14.9s\n",
      "[CV] max_depth=50, max_features=auto, min_samples_leaf=10000, n_estimators=250 \n",
      "[CV]  max_depth=50, max_features=auto, min_samples_leaf=10000, n_estimators=250, total=  37.6s\n",
      "[CV] max_depth=50, max_features=auto, min_samples_leaf=10000, n_estimators=250 \n",
      "[CV]  max_depth=50, max_features=auto, min_samples_leaf=10000, n_estimators=250, total=  36.9s\n",
      "[CV] max_depth=50, max_features=auto, min_samples_leaf=10000, n_estimators=250 \n",
      "[CV]  max_depth=50, max_features=auto, min_samples_leaf=10000, n_estimators=250, total=  37.4s\n",
      "[CV] max_depth=50, max_features=auto, min_samples_leaf=10000, n_estimators=500 \n",
      "[CV]  max_depth=50, max_features=auto, min_samples_leaf=10000, n_estimators=500, total= 1.2min\n",
      "[CV] max_depth=50, max_features=auto, min_samples_leaf=10000, n_estimators=500 \n",
      "[CV]  max_depth=50, max_features=auto, min_samples_leaf=10000, n_estimators=500, total= 1.2min\n",
      "[CV] max_depth=50, max_features=auto, min_samples_leaf=10000, n_estimators=500 \n",
      "[CV]  max_depth=50, max_features=auto, min_samples_leaf=10000, n_estimators=500, total= 1.2min\n",
      "[CV] max_depth=50, max_features=auto, min_samples_leaf=10000, n_estimators=1000 \n",
      "[CV]  max_depth=50, max_features=auto, min_samples_leaf=10000, n_estimators=1000, total= 2.5min\n",
      "[CV] max_depth=50, max_features=auto, min_samples_leaf=10000, n_estimators=1000 \n",
      "[CV]  max_depth=50, max_features=auto, min_samples_leaf=10000, n_estimators=1000, total= 2.5min\n",
      "[CV] max_depth=50, max_features=auto, min_samples_leaf=10000, n_estimators=1000 \n",
      "[CV]  max_depth=50, max_features=auto, min_samples_leaf=10000, n_estimators=1000, total= 2.5min\n"
     ]
    },
    {
     "name": "stderr",
     "output_type": "stream",
     "text": [
      "[Parallel(n_jobs=-1)]: Done 144 out of 144 | elapsed: 209.8min finished\n"
     ]
    },
    {
     "data": {
      "text/plain": [
       "{'max_depth': 1,\n",
       " 'max_features': 'auto',\n",
       " 'min_samples_leaf': 3000,\n",
       " 'n_estimators': 100}"
      ]
     },
     "execution_count": 56,
     "metadata": {},
     "output_type": "execute_result"
    }
   ],
   "source": [
    "# 2. Random Forest\n",
    "\n",
    "param_grid_rf = {\n",
    "    'max_depth': [1, 5, 25, 50],\n",
    "    'max_features': ['auto'],\n",
    "    'min_samples_leaf': [3000, 5000, 10000],\n",
    "    'n_estimators': [100, 250, 500, 1000]}\n",
    "\n",
    "rf = RandomForestClassifier()\n",
    "\n",
    "grid_search_rf = GridSearchCV(estimator = rf, param_grid = param_grid_rf, \n",
    "                          cv = 3, n_jobs = -1, verbose = 2)\n",
    "\n",
    "grid_search_rf.fit(train_features, train_labels)\n",
    "\n",
    "grid_search_rf.best_params_"
   ]
  },
  {
   "cell_type": "code",
   "execution_count": 86,
   "metadata": {},
   "outputs": [
    {
     "name": "stdout",
     "output_type": "stream",
     "text": [
      "Random Forest (Base Model)\n",
      "Ginni Coeff:  0.18795731441355712\n",
      "Precision:  0.4780118675354774\n",
      "Recall: 0.5\n",
      "Confusion Matrix:\n",
      "[[164177      0]\n",
      " [  7552      0]]\n"
     ]
    },
    {
     "name": "stderr",
     "output_type": "stream",
     "text": [
      "/home/mohilbajaj2002/anaconda3/lib/python3.6/site-packages/sklearn/metrics/classification.py:1135: UndefinedMetricWarning: Precision is ill-defined and being set to 0.0 in labels with no predicted samples.\n",
      "  'precision', 'predicted', average, warn_for)\n"
     ]
    }
   ],
   "source": [
    "best_rf_model = grid_search_rf.best_estimator_\n",
    "pred_rf = best_rf_model.predict_proba(test_features)[:,1]\n",
    "pred_rf_binary = best_rf_model.predict(test_features)\n",
    "ginni_rf = 2*roc_auc_score(test_labels, pred_rf) - 1\n",
    "\n",
    "print ('Random Forest (Base Model)')\n",
    "print('Ginni Coeff: ', ginni_rf)\n",
    "print('Precision: ', precision_score(test_labels, pred_rf_binary, average=\"macro\"))\n",
    "print('Recall:', recall_score(test_labels, pred_rf_binary, average=\"macro\")) \n",
    "print('Confusion Matrix:')\n",
    "print(confusion_matrix(test_labels, pred_rf_binary))"
   ]
  },
  {
   "cell_type": "code",
   "execution_count": 60,
   "metadata": {},
   "outputs": [
    {
     "data": {
      "text/plain": [
       "XGBClassifier(base_score=0.5, booster='gbtree', colsample_bylevel=1,\n",
       "       colsample_bytree=0.2, gamma=0.0, learning_rate=0.05,\n",
       "       max_delta_step=0, max_depth=6, min_child_weight=1.5, missing=None,\n",
       "       n_estimators=7200, n_jobs=1, nthread=None,\n",
       "       objective='binary:logistic', random_state=7, reg_alpha=0.9,\n",
       "       reg_lambda=0.6, scale_pos_weight=1, seed=42, silent=1,\n",
       "       subsample=0.2)"
      ]
     },
     "execution_count": 60,
     "metadata": {},
     "output_type": "execute_result"
    }
   ],
   "source": [
    "# 3. XG Boost\n",
    "\n",
    "model_xgb = xgb.XGBClassifier(colsample_bytree=0.2, gamma=0.0, \n",
    "                             learning_rate=0.05, max_depth=6, \n",
    "                             min_child_weight=1.5, n_estimators=7200,\n",
    "                             reg_alpha=0.9, reg_lambda=0.6,\n",
    "                             subsample=0.2,seed=42, silent=1,\n",
    "                             random_state =7)\n",
    "\n",
    "model_xgb.fit(train_features, train_labels)"
   ]
  },
  {
   "cell_type": "code",
   "execution_count": 87,
   "metadata": {},
   "outputs": [
    {
     "name": "stderr",
     "output_type": "stream",
     "text": [
      "/home/mohilbajaj2002/anaconda3/lib/python3.6/site-packages/sklearn/preprocessing/label.py:151: DeprecationWarning: The truth value of an empty array is ambiguous. Returning False, but in future this will result in an error. Use `array.size > 0` to check that an array is not empty.\n",
      "  if diff:\n"
     ]
    },
    {
     "name": "stdout",
     "output_type": "stream",
     "text": [
      "XGBoost (Base Model)\n",
      "Ginni Coeff:  0.2703629814757593\n",
      "Precision:  0.7280145230511219\n",
      "Recall: 0.5000631621335355\n",
      "Confusion Matrix:\n",
      "[[164176      1]\n",
      " [  7551      1]]\n"
     ]
    }
   ],
   "source": [
    "pred_xgb = model_xgb.predict_proba(test_features)[:,1]\n",
    "pred_xgb_binary = model_xgb.predict(test_features)\n",
    "ginni_xgb = 2*roc_auc_score(test_labels, pred_xgb) - 1\n",
    "print ('XGBoost (Base Model)')\n",
    "print('Ginni Coeff: ', ginni_xgb)\n",
    "print('Precision: ', precision_score(test_labels, pred_xgb_binary, average=\"macro\"))\n",
    "print('Recall:', recall_score(test_labels, pred_xgb_binary, average=\"macro\")) \n",
    "print('Confusion Matrix:')\n",
    "print(confusion_matrix(test_labels, pred_xgb_binary))"
   ]
  },
  {
   "cell_type": "code",
   "execution_count": 64,
   "metadata": {},
   "outputs": [
    {
     "name": "stdout",
     "output_type": "stream",
     "text": [
      "Epoch 1/3\n",
      "515185/515185 [==============================] - 342s 663us/step - loss: 0.1796 - acc: 0.9559\n",
      "Epoch 2/3\n",
      "515185/515185 [==============================] - 243s 472us/step - loss: 0.1776 - acc: 0.9560\n",
      "Epoch 3/3\n",
      "515185/515185 [==============================] - 314s 610us/step - loss: 0.1774 - acc: 0.9560s - los\n"
     ]
    },
    {
     "data": {
      "text/plain": [
       "<keras.callbacks.History at 0x7f3ff2d53710>"
      ]
     },
     "execution_count": 64,
     "metadata": {},
     "output_type": "execute_result"
    }
   ],
   "source": [
    "# 4. Deep Neural Nets\n",
    "\n",
    "a = train_features.shape[1]\n",
    "\n",
    "model2 = Sequential()\n",
    "model2.add(Dense(a+50, input_dim=a, kernel_initializer='normal', activation='relu'))\n",
    "model2.add(Dense(200, kernel_initializer='normal', activation='relu'))\n",
    "model2.add(Dense(400, kernel_initializer='normal', activation='relu'))\n",
    "model2.add(Dense(200, kernel_initializer='normal', activation='relu'))\n",
    "model2.add(Dense(1, kernel_initializer='normal', activation='sigmoid'))\n",
    "model2.compile(loss='binary_crossentropy', optimizer='adam', metrics=['accuracy'])\n",
    "model2.fit(train_features, train_labels, epochs= 3, batch_size=50,  verbose=1)"
   ]
  },
  {
   "cell_type": "code",
   "execution_count": 88,
   "metadata": {},
   "outputs": [
    {
     "name": "stdout",
     "output_type": "stream",
     "text": [
      "Deep Neural Net (Base Model)\n",
      "Ginni Coeff:  0.2368937344957276\n",
      "Precision:  0.4780118675354774\n",
      "Recall: 0.5\n",
      "Confusion Matrix:\n",
      "[[164177      0]\n",
      " [  7552      0]]\n"
     ]
    },
    {
     "name": "stderr",
     "output_type": "stream",
     "text": [
      "/home/mohilbajaj2002/anaconda3/lib/python3.6/site-packages/sklearn/metrics/classification.py:1135: UndefinedMetricWarning: Precision is ill-defined and being set to 0.0 in labels with no predicted samples.\n",
      "  'precision', 'predicted', average, warn_for)\n"
     ]
    }
   ],
   "source": [
    "pred_nn = model2.predict(test_features)\n",
    "pred_nn = pd.DataFrame(pred_nn,columns = ['Pred'])\n",
    "pred_nn['Pred_binary'] = pred_nn['Pred'].apply(lambda x: 1 if x >= 0.5 else 0)\n",
    "ginni_nn = 2*roc_auc_score(test_labels, pred_nn['Pred']) - 1\n",
    "print ('Deep Neural Net (Base Model)')\n",
    "print('Ginni Coeff: ', ginni_nn)\n",
    "print('Precision: ', precision_score(test_labels, pred_nn['Pred_binary'], average=\"macro\"))\n",
    "print('Recall:', recall_score(test_labels, pred_nn['Pred_binary'], average=\"macro\")) \n",
    "print('Confusion Matrix:')\n",
    "print(confusion_matrix(test_labels, pred_nn['Pred_binary']))"
   ]
  },
  {
   "cell_type": "code",
   "execution_count": 91,
   "metadata": {},
   "outputs": [
    {
     "name": "stdout",
     "output_type": "stream",
     "text": [
      "Ensemble (Base Model)\n",
      "Ginni Coeff:  0.27137432569416875\n",
      "Precision:  0.4780118675354774\n",
      "Recall: 0.5\n",
      "Confusion Matrix:\n"
     ]
    },
    {
     "name": "stderr",
     "output_type": "stream",
     "text": [
      "/home/mohilbajaj2002/anaconda3/lib/python3.6/site-packages/sklearn/metrics/classification.py:1135: UndefinedMetricWarning: Precision is ill-defined and being set to 0.0 in labels with no predicted samples.\n",
      "  'precision', 'predicted', average, warn_for)\n"
     ]
    },
    {
     "name": "stdout",
     "output_type": "stream",
     "text": [
      "[[164177      0]\n",
      " [  7552      0]]\n"
     ]
    }
   ],
   "source": [
    "# 5. Ensemble (of the above models)\n",
    "\n",
    "pred_ensemble = (pred + pred_rf + pred_xgb + pred_nn['Pred'].values)/4\n",
    "pred_ensemble = pd.DataFrame(pred_ensemble, columns = ['Pred'])\n",
    "pred_ensemble['Pred_binary'] = pred_ensemble['Pred'].apply(lambda x: 1 if x>=0.5 else 0)\n",
    "ginni_ensemble = 2*roc_auc_score(test_labels, pred_ensemble['Pred']) - 1\n",
    "print ('Ensemble (Base Model)')\n",
    "print('Ginni Coeff: ', ginni_ensemble)\n",
    "print('Precision: ', precision_score(test_labels, pred_ensemble['Pred_binary'], average=\"macro\"))\n",
    "print('Recall:', recall_score(test_labels, pred_ensemble['Pred_binary'], average=\"macro\")) \n",
    "print('Confusion Matrix:')\n",
    "print(confusion_matrix(test_labels, pred_ensemble['Pred_binary']))"
   ]
  },
  {
   "cell_type": "markdown",
   "metadata": {},
   "source": [
    "# SMOTE (for Class Imbalance Correction)"
   ]
  },
  {
   "cell_type": "code",
   "execution_count": 67,
   "metadata": {},
   "outputs": [
    {
     "name": "stderr",
     "output_type": "stream",
     "text": [
      "/home/mohilbajaj2002/anaconda3/lib/python3.6/site-packages/sklearn/utils/deprecation.py:77: DeprecationWarning: Function _ratio_float is deprecated; Use a float for 'ratio' is deprecated from version 0.2. The support will be removed in 0.4. Use a dict, str, or a callable instead.\n",
      "  warnings.warn(msg, category=DeprecationWarning)\n"
     ]
    }
   ],
   "source": [
    "sm = SMOTE(random_state=12, ratio = 1.0)\n",
    "train_features_2, train_labels_2 = sm.fit_sample(train_features, train_labels)"
   ]
  },
  {
   "cell_type": "code",
   "execution_count": 68,
   "metadata": {},
   "outputs": [
    {
     "name": "stdout",
     "output_type": "stream",
     "text": [
      "Fitting 3 folds for each of 7 candidates, totalling 21 fits\n",
      "[CV] C=0.001 .........................................................\n",
      "[CV] .......................................... C=0.001, total=   2.7s\n",
      "[CV] C=0.001 .........................................................\n"
     ]
    },
    {
     "name": "stderr",
     "output_type": "stream",
     "text": [
      "[Parallel(n_jobs=-1)]: Done   1 out of   1 | elapsed:    2.8s remaining:    0.0s\n"
     ]
    },
    {
     "name": "stdout",
     "output_type": "stream",
     "text": [
      "[CV] .......................................... C=0.001, total=   2.5s\n",
      "[CV] C=0.001 .........................................................\n",
      "[CV] .......................................... C=0.001, total=   2.6s\n",
      "[CV] C=0.01 ..........................................................\n",
      "[CV] ........................................... C=0.01, total=   3.8s\n",
      "[CV] C=0.01 ..........................................................\n",
      "[CV] ........................................... C=0.01, total=   2.8s\n",
      "[CV] C=0.01 ..........................................................\n",
      "[CV] ........................................... C=0.01, total=   3.7s\n",
      "[CV] C=0.1 ...........................................................\n",
      "[CV] ............................................ C=0.1, total=   4.1s\n",
      "[CV] C=0.1 ...........................................................\n",
      "[CV] ............................................ C=0.1, total=   3.5s\n",
      "[CV] C=0.1 ...........................................................\n",
      "[CV] ............................................ C=0.1, total=   4.3s\n",
      "[CV] C=1 .............................................................\n",
      "[CV] .............................................. C=1, total=   3.9s\n",
      "[CV] C=1 .............................................................\n",
      "[CV] .............................................. C=1, total=   4.6s\n",
      "[CV] C=1 .............................................................\n",
      "[CV] .............................................. C=1, total=   4.5s\n",
      "[CV] C=10 ............................................................\n",
      "[CV] ............................................. C=10, total=   4.3s\n",
      "[CV] C=10 ............................................................\n",
      "[CV] ............................................. C=10, total=   4.3s\n",
      "[CV] C=10 ............................................................\n",
      "[CV] ............................................. C=10, total=   4.2s\n",
      "[CV] C=100 ...........................................................\n",
      "[CV] ............................................ C=100, total=   4.7s\n",
      "[CV] C=100 ...........................................................\n",
      "[CV] ............................................ C=100, total=   4.7s\n",
      "[CV] C=100 ...........................................................\n",
      "[CV] ............................................ C=100, total=   5.6s\n",
      "[CV] C=1000 ..........................................................\n",
      "[CV] ........................................... C=1000, total=   5.5s\n",
      "[CV] C=1000 ..........................................................\n",
      "[CV] ........................................... C=1000, total=   5.2s\n",
      "[CV] C=1000 ..........................................................\n",
      "[CV] ........................................... C=1000, total=   5.3s\n"
     ]
    },
    {
     "name": "stderr",
     "output_type": "stream",
     "text": [
      "[Parallel(n_jobs=-1)]: Done  21 out of  21 | elapsed:  1.5min finished\n"
     ]
    },
    {
     "name": "stdout",
     "output_type": "stream",
     "text": [
      "Logistic Regression (SMOTE)\n",
      "Ginni Coeff:  0.21525812222814933\n"
     ]
    }
   ],
   "source": [
    "# 1. Logistic Regression\n",
    "\n",
    "param_grid_lr = {'C': [0.001, 0.01, 0.1, 1, 10, 100, 1000] }\n",
    "\n",
    "lr = LogisticRegression(penalty='l2')\n",
    "\n",
    "grid_search_lr_smote = GridSearchCV(estimator = lr, param_grid = param_grid_lr, \n",
    "                          cv = 3, n_jobs = -1, verbose = 2)\n",
    "\n",
    "grid_search_lr_smote.fit(train_features_2, train_labels_2)\n",
    "\n",
    "grid_search_lr_smote.best_params_\n",
    "\n",
    "best_lr_model_smote = grid_search_lr_smote.best_estimator_\n",
    "\n",
    "pred_lr_smote = best_lr_model_smote.predict_proba(test_features)[:,1]\n",
    "\n",
    "ginni_lr_smote = 2*roc_auc_score(test_labels, pred_lr_smote) - 1\n",
    "\n",
    "print ('Logistic Regression (SMOTE)')\n",
    "print('Ginni Coeff: ', ginni_lr_smote)"
   ]
  },
  {
   "cell_type": "code",
   "execution_count": 89,
   "metadata": {},
   "outputs": [
    {
     "name": "stdout",
     "output_type": "stream",
     "text": [
      "Logistic Regression (SMOTE)\n",
      "Precision:  0.5138324131936419\n",
      "Recall: 0.5812441818651852\n",
      "Confusion Matrix:\n",
      "[[92352 71825]\n",
      " [ 3021  4531]]\n"
     ]
    }
   ],
   "source": [
    "pred_binary_lr_smote_binary = best_lr_model_smote.predict(test_features)\n",
    "\n",
    "\n",
    "print ('Logistic Regression (SMOTE)')\n",
    "\n",
    "print('Precision: ', precision_score(test_labels, pred_binary_lr_smote_binary, average=\"macro\"))\n",
    "print('Recall:', recall_score(test_labels, pred_binary_lr_smote_binary, average=\"macro\")) \n",
    "print('Confusion Matrix:')\n",
    "print(confusion_matrix(test_labels, pred_binary_lr_smote_binary))"
   ]
  },
  {
   "cell_type": "code",
   "execution_count": 69,
   "metadata": {},
   "outputs": [
    {
     "name": "stdout",
     "output_type": "stream",
     "text": [
      "Epoch 1/3\n",
      "985024/985024 [==============================] - ETA: 0s - loss: 0.6555 - acc: 0.610 - 601s 610us/step - loss: 0.6555 - acc: 0.6101\n",
      "Epoch 2/3\n",
      "985024/985024 [==============================] - 625s 635us/step - loss: 0.6347 - acc: 0.6311s - los\n",
      "Epoch 3/3\n",
      "985024/985024 [==============================] - 575s 583us/step - loss: 0.6175 - acc: 0.6471\n",
      "Deep Neural Net (SMOTE)\n",
      "Ginni Coeff:  0.19906956073813675\n"
     ]
    }
   ],
   "source": [
    "# 2. Deep Neural Nets\n",
    "\n",
    "a = train_features.shape[1]\n",
    "\n",
    "model3 = Sequential()\n",
    "model3.add(Dense(a+50, input_dim=a, kernel_initializer='normal', activation='relu'))\n",
    "model3.add(Dense(200, kernel_initializer='normal', activation='relu'))\n",
    "model3.add(Dense(400, kernel_initializer='normal', activation='relu'))\n",
    "model3.add(Dense(200, kernel_initializer='normal', activation='relu'))\n",
    "model3.add(Dense(1, kernel_initializer='normal', activation='sigmoid'))\n",
    "model3.compile(loss='binary_crossentropy', optimizer='adam', metrics=['accuracy'])\n",
    "model3.fit(train_features_2, train_labels_2, epochs= 3, batch_size=50,  verbose=1)\n",
    "\n",
    "pred_nn_smote = model3.predict(test_features)\n",
    "ginni_nn_smote = 2*roc_auc_score(test_labels, pred_nn_smote) - 1\n",
    "print ('Deep Neural Net (SMOTE)')\n",
    "print('Ginni Coeff: ', ginni_nn_smote)"
   ]
  },
  {
   "cell_type": "code",
   "execution_count": 94,
   "metadata": {},
   "outputs": [
    {
     "name": "stdout",
     "output_type": "stream",
     "text": [
      "Deep Neural Nets (SMOTE)\n",
      "Precision:  0.5136257685491911\n",
      "Recall: 0.5776678747199824\n",
      "Confusion Matrix:\n",
      "[[99917 64260]\n",
      " [ 3423  4129]]\n"
     ]
    }
   ],
   "source": [
    "print ('Deep Neural Nets (SMOTE)')\n",
    "\n",
    "pred_nn_smote = pd.DataFrame(pred_nn_smote, columns = ['Pred'])\n",
    "pred_nn_smote['Pred_binary'] = pred_nn_smote['Pred'].apply(lambda x: 1 if x>=0.5 else 0)\n",
    "\n",
    "print('Precision: ', precision_score(test_labels, pred_nn_smote['Pred_binary'], average=\"macro\"))\n",
    "print('Recall:', recall_score(test_labels, pred_nn_smote['Pred_binary'], average=\"macro\")) \n",
    "print('Confusion Matrix:')\n",
    "print(confusion_matrix(test_labels, pred_nn_smote['Pred_binary']))"
   ]
  },
  {
   "cell_type": "code",
   "execution_count": 97,
   "metadata": {},
   "outputs": [],
   "source": [
    "# 3. XG Boost\n",
    "\n",
    "#model_xgb_smote = xgb.XGBClassifier(colsample_bytree=0.2, gamma=0.0, \n",
    "#                             learning_rate=0.05, max_depth=6, \n",
    "#                             min_child_weight=1.5, n_estimators=7200,\n",
    "#                             reg_alpha=0.9, reg_lambda=0.6,\n",
    "#                             subsample=0.2,seed=42, silent=1,\n",
    "#                             random_state =7)\n",
    "\n",
    "#model_xgb_smote.fit(train_features_2, train_labels_2)\n",
    "\n",
    "#pred_xgb_smote = model_xgb_smote.predict_proba(test_features)[:,1]\n",
    "#ginni_xgb_smote = 2*roc_auc_score(test_labels, pred_xgb_smote) - 1\n",
    "#print ('XGBoost (SMOTE)')\n",
    "#('Ginni Coeff: ', ginni_xgb_smote)"
   ]
  },
  {
   "cell_type": "code",
   "execution_count": 71,
   "metadata": {},
   "outputs": [
    {
     "name": "stdout",
     "output_type": "stream",
     "text": [
      "Fitting 3 folds for each of 48 candidates, totalling 144 fits\n",
      "[CV] max_depth=1, max_features=auto, min_samples_leaf=3000, n_estimators=100 \n",
      "[CV]  max_depth=1, max_features=auto, min_samples_leaf=3000, n_estimators=100, total=  16.6s\n",
      "[CV] max_depth=1, max_features=auto, min_samples_leaf=3000, n_estimators=100 \n"
     ]
    },
    {
     "name": "stderr",
     "output_type": "stream",
     "text": [
      "[Parallel(n_jobs=-1)]: Done   1 out of   1 | elapsed:   20.2s remaining:    0.0s\n"
     ]
    },
    {
     "name": "stdout",
     "output_type": "stream",
     "text": [
      "[CV]  max_depth=1, max_features=auto, min_samples_leaf=3000, n_estimators=100, total=  17.1s\n",
      "[CV] max_depth=1, max_features=auto, min_samples_leaf=3000, n_estimators=100 \n",
      "[CV]  max_depth=1, max_features=auto, min_samples_leaf=3000, n_estimators=100, total=  18.4s\n",
      "[CV] max_depth=1, max_features=auto, min_samples_leaf=3000, n_estimators=250 \n",
      "[CV]  max_depth=1, max_features=auto, min_samples_leaf=3000, n_estimators=250, total=  45.5s\n",
      "[CV] max_depth=1, max_features=auto, min_samples_leaf=3000, n_estimators=250 \n",
      "[CV]  max_depth=1, max_features=auto, min_samples_leaf=3000, n_estimators=250, total=  46.6s\n",
      "[CV] max_depth=1, max_features=auto, min_samples_leaf=3000, n_estimators=250 \n",
      "[CV]  max_depth=1, max_features=auto, min_samples_leaf=3000, n_estimators=250, total=  41.5s\n",
      "[CV] max_depth=1, max_features=auto, min_samples_leaf=3000, n_estimators=500 \n",
      "[CV]  max_depth=1, max_features=auto, min_samples_leaf=3000, n_estimators=500, total= 1.4min\n",
      "[CV] max_depth=1, max_features=auto, min_samples_leaf=3000, n_estimators=500 \n",
      "[CV]  max_depth=1, max_features=auto, min_samples_leaf=3000, n_estimators=500, total= 1.7min\n",
      "[CV] max_depth=1, max_features=auto, min_samples_leaf=3000, n_estimators=500 \n",
      "[CV]  max_depth=1, max_features=auto, min_samples_leaf=3000, n_estimators=500, total= 1.6min\n",
      "[CV] max_depth=1, max_features=auto, min_samples_leaf=3000, n_estimators=1000 \n",
      "[CV]  max_depth=1, max_features=auto, min_samples_leaf=3000, n_estimators=1000, total= 3.0min\n",
      "[CV] max_depth=1, max_features=auto, min_samples_leaf=3000, n_estimators=1000 \n",
      "[CV]  max_depth=1, max_features=auto, min_samples_leaf=3000, n_estimators=1000, total= 3.1min\n",
      "[CV] max_depth=1, max_features=auto, min_samples_leaf=3000, n_estimators=1000 \n",
      "[CV]  max_depth=1, max_features=auto, min_samples_leaf=3000, n_estimators=1000, total= 2.7min\n",
      "[CV] max_depth=1, max_features=auto, min_samples_leaf=5000, n_estimators=100 \n",
      "[CV]  max_depth=1, max_features=auto, min_samples_leaf=5000, n_estimators=100, total=  15.9s\n",
      "[CV] max_depth=1, max_features=auto, min_samples_leaf=5000, n_estimators=100 \n",
      "[CV]  max_depth=1, max_features=auto, min_samples_leaf=5000, n_estimators=100, total=  16.1s\n",
      "[CV] max_depth=1, max_features=auto, min_samples_leaf=5000, n_estimators=100 \n",
      "[CV]  max_depth=1, max_features=auto, min_samples_leaf=5000, n_estimators=100, total=  15.7s\n",
      "[CV] max_depth=1, max_features=auto, min_samples_leaf=5000, n_estimators=250 \n",
      "[CV]  max_depth=1, max_features=auto, min_samples_leaf=5000, n_estimators=250, total=  37.4s\n",
      "[CV] max_depth=1, max_features=auto, min_samples_leaf=5000, n_estimators=250 \n",
      "[CV]  max_depth=1, max_features=auto, min_samples_leaf=5000, n_estimators=250, total=  38.0s\n",
      "[CV] max_depth=1, max_features=auto, min_samples_leaf=5000, n_estimators=250 \n",
      "[CV]  max_depth=1, max_features=auto, min_samples_leaf=5000, n_estimators=250, total=  48.3s\n",
      "[CV] max_depth=1, max_features=auto, min_samples_leaf=5000, n_estimators=500 \n",
      "[CV]  max_depth=1, max_features=auto, min_samples_leaf=5000, n_estimators=500, total= 1.4min\n",
      "[CV] max_depth=1, max_features=auto, min_samples_leaf=5000, n_estimators=500 \n",
      "[CV]  max_depth=1, max_features=auto, min_samples_leaf=5000, n_estimators=500, total= 1.6min\n",
      "[CV] max_depth=1, max_features=auto, min_samples_leaf=5000, n_estimators=500 \n",
      "[CV]  max_depth=1, max_features=auto, min_samples_leaf=5000, n_estimators=500, total= 1.5min\n",
      "[CV] max_depth=1, max_features=auto, min_samples_leaf=5000, n_estimators=1000 \n",
      "[CV]  max_depth=1, max_features=auto, min_samples_leaf=5000, n_estimators=1000, total= 2.8min\n",
      "[CV] max_depth=1, max_features=auto, min_samples_leaf=5000, n_estimators=1000 \n",
      "[CV]  max_depth=1, max_features=auto, min_samples_leaf=5000, n_estimators=1000, total= 2.9min\n",
      "[CV] max_depth=1, max_features=auto, min_samples_leaf=5000, n_estimators=1000 \n",
      "[CV]  max_depth=1, max_features=auto, min_samples_leaf=5000, n_estimators=1000, total= 2.9min\n",
      "[CV] max_depth=1, max_features=auto, min_samples_leaf=10000, n_estimators=100 \n",
      "[CV]  max_depth=1, max_features=auto, min_samples_leaf=10000, n_estimators=100, total=  17.5s\n",
      "[CV] max_depth=1, max_features=auto, min_samples_leaf=10000, n_estimators=100 \n",
      "[CV]  max_depth=1, max_features=auto, min_samples_leaf=10000, n_estimators=100, total=  18.9s\n",
      "[CV] max_depth=1, max_features=auto, min_samples_leaf=10000, n_estimators=100 \n",
      "[CV]  max_depth=1, max_features=auto, min_samples_leaf=10000, n_estimators=100, total=  18.7s\n",
      "[CV] max_depth=1, max_features=auto, min_samples_leaf=10000, n_estimators=250 \n",
      "[CV]  max_depth=1, max_features=auto, min_samples_leaf=10000, n_estimators=250, total=  44.4s\n",
      "[CV] max_depth=1, max_features=auto, min_samples_leaf=10000, n_estimators=250 \n",
      "[CV]  max_depth=1, max_features=auto, min_samples_leaf=10000, n_estimators=250, total=  45.2s\n",
      "[CV] max_depth=1, max_features=auto, min_samples_leaf=10000, n_estimators=250 \n",
      "[CV]  max_depth=1, max_features=auto, min_samples_leaf=10000, n_estimators=250, total=  44.1s\n",
      "[CV] max_depth=1, max_features=auto, min_samples_leaf=10000, n_estimators=500 \n",
      "[CV]  max_depth=1, max_features=auto, min_samples_leaf=10000, n_estimators=500, total= 1.4min\n",
      "[CV] max_depth=1, max_features=auto, min_samples_leaf=10000, n_estimators=500 \n",
      "[CV]  max_depth=1, max_features=auto, min_samples_leaf=10000, n_estimators=500, total= 1.5min\n",
      "[CV] max_depth=1, max_features=auto, min_samples_leaf=10000, n_estimators=500 \n",
      "[CV]  max_depth=1, max_features=auto, min_samples_leaf=10000, n_estimators=500, total= 1.5min\n",
      "[CV] max_depth=1, max_features=auto, min_samples_leaf=10000, n_estimators=1000 \n",
      "[CV]  max_depth=1, max_features=auto, min_samples_leaf=10000, n_estimators=1000, total= 2.9min\n",
      "[CV] max_depth=1, max_features=auto, min_samples_leaf=10000, n_estimators=1000 \n",
      "[CV]  max_depth=1, max_features=auto, min_samples_leaf=10000, n_estimators=1000, total= 2.9min\n",
      "[CV] max_depth=1, max_features=auto, min_samples_leaf=10000, n_estimators=1000 \n",
      "[CV]  max_depth=1, max_features=auto, min_samples_leaf=10000, n_estimators=1000, total= 2.9min\n",
      "[CV] max_depth=5, max_features=auto, min_samples_leaf=3000, n_estimators=100 \n",
      "[CV]  max_depth=5, max_features=auto, min_samples_leaf=3000, n_estimators=100, total= 1.1min\n",
      "[CV] max_depth=5, max_features=auto, min_samples_leaf=3000, n_estimators=100 \n",
      "[CV]  max_depth=5, max_features=auto, min_samples_leaf=3000, n_estimators=100, total= 1.1min\n",
      "[CV] max_depth=5, max_features=auto, min_samples_leaf=3000, n_estimators=100 \n",
      "[CV]  max_depth=5, max_features=auto, min_samples_leaf=3000, n_estimators=100, total= 1.1min\n",
      "[CV] max_depth=5, max_features=auto, min_samples_leaf=3000, n_estimators=250 \n",
      "[CV]  max_depth=5, max_features=auto, min_samples_leaf=3000, n_estimators=250, total= 2.6min\n",
      "[CV] max_depth=5, max_features=auto, min_samples_leaf=3000, n_estimators=250 \n",
      "[CV]  max_depth=5, max_features=auto, min_samples_leaf=3000, n_estimators=250, total= 2.6min\n",
      "[CV] max_depth=5, max_features=auto, min_samples_leaf=3000, n_estimators=250 \n",
      "[CV]  max_depth=5, max_features=auto, min_samples_leaf=3000, n_estimators=250, total= 2.6min\n",
      "[CV] max_depth=5, max_features=auto, min_samples_leaf=3000, n_estimators=500 \n",
      "[CV]  max_depth=5, max_features=auto, min_samples_leaf=3000, n_estimators=500, total= 5.3min\n",
      "[CV] max_depth=5, max_features=auto, min_samples_leaf=3000, n_estimators=500 \n",
      "[CV]  max_depth=5, max_features=auto, min_samples_leaf=3000, n_estimators=500, total= 5.4min\n",
      "[CV] max_depth=5, max_features=auto, min_samples_leaf=3000, n_estimators=500 \n",
      "[CV]  max_depth=5, max_features=auto, min_samples_leaf=3000, n_estimators=500, total= 5.4min\n",
      "[CV] max_depth=5, max_features=auto, min_samples_leaf=3000, n_estimators=1000 \n",
      "[CV]  max_depth=5, max_features=auto, min_samples_leaf=3000, n_estimators=1000, total=10.3min\n",
      "[CV] max_depth=5, max_features=auto, min_samples_leaf=3000, n_estimators=1000 \n",
      "[CV]  max_depth=5, max_features=auto, min_samples_leaf=3000, n_estimators=1000, total=10.5min\n",
      "[CV] max_depth=5, max_features=auto, min_samples_leaf=3000, n_estimators=1000 \n",
      "[CV]  max_depth=5, max_features=auto, min_samples_leaf=3000, n_estimators=1000, total=10.4min\n",
      "[CV] max_depth=5, max_features=auto, min_samples_leaf=5000, n_estimators=100 \n",
      "[CV]  max_depth=5, max_features=auto, min_samples_leaf=5000, n_estimators=100, total= 1.1min\n",
      "[CV] max_depth=5, max_features=auto, min_samples_leaf=5000, n_estimators=100 \n"
     ]
    },
    {
     "name": "stdout",
     "output_type": "stream",
     "text": [
      "[CV]  max_depth=5, max_features=auto, min_samples_leaf=5000, n_estimators=100, total= 1.1min\n",
      "[CV] max_depth=5, max_features=auto, min_samples_leaf=5000, n_estimators=100 \n",
      "[CV]  max_depth=5, max_features=auto, min_samples_leaf=5000, n_estimators=100, total= 1.1min\n",
      "[CV] max_depth=5, max_features=auto, min_samples_leaf=5000, n_estimators=250 \n",
      "[CV]  max_depth=5, max_features=auto, min_samples_leaf=5000, n_estimators=250, total= 2.5min\n",
      "[CV] max_depth=5, max_features=auto, min_samples_leaf=5000, n_estimators=250 \n",
      "[CV]  max_depth=5, max_features=auto, min_samples_leaf=5000, n_estimators=250, total= 2.6min\n",
      "[CV] max_depth=5, max_features=auto, min_samples_leaf=5000, n_estimators=250 \n",
      "[CV]  max_depth=5, max_features=auto, min_samples_leaf=5000, n_estimators=250, total= 2.6min\n",
      "[CV] max_depth=5, max_features=auto, min_samples_leaf=5000, n_estimators=500 \n",
      "[CV]  max_depth=5, max_features=auto, min_samples_leaf=5000, n_estimators=500, total= 5.3min\n",
      "[CV] max_depth=5, max_features=auto, min_samples_leaf=5000, n_estimators=500 \n",
      "[CV]  max_depth=5, max_features=auto, min_samples_leaf=5000, n_estimators=500, total= 5.2min\n",
      "[CV] max_depth=5, max_features=auto, min_samples_leaf=5000, n_estimators=500 \n",
      "[CV]  max_depth=5, max_features=auto, min_samples_leaf=5000, n_estimators=500, total= 5.2min\n",
      "[CV] max_depth=5, max_features=auto, min_samples_leaf=5000, n_estimators=1000 \n",
      "[CV]  max_depth=5, max_features=auto, min_samples_leaf=5000, n_estimators=1000, total=10.1min\n",
      "[CV] max_depth=5, max_features=auto, min_samples_leaf=5000, n_estimators=1000 \n",
      "[CV]  max_depth=5, max_features=auto, min_samples_leaf=5000, n_estimators=1000, total=10.1min\n",
      "[CV] max_depth=5, max_features=auto, min_samples_leaf=5000, n_estimators=1000 \n",
      "[CV]  max_depth=5, max_features=auto, min_samples_leaf=5000, n_estimators=1000, total=10.1min\n",
      "[CV] max_depth=5, max_features=auto, min_samples_leaf=10000, n_estimators=100 \n",
      "[CV]  max_depth=5, max_features=auto, min_samples_leaf=10000, n_estimators=100, total=  59.8s\n",
      "[CV] max_depth=5, max_features=auto, min_samples_leaf=10000, n_estimators=100 \n",
      "[CV]  max_depth=5, max_features=auto, min_samples_leaf=10000, n_estimators=100, total= 1.0min\n",
      "[CV] max_depth=5, max_features=auto, min_samples_leaf=10000, n_estimators=100 \n",
      "[CV]  max_depth=5, max_features=auto, min_samples_leaf=10000, n_estimators=100, total=  59.8s\n",
      "[CV] max_depth=5, max_features=auto, min_samples_leaf=10000, n_estimators=250 \n",
      "[CV]  max_depth=5, max_features=auto, min_samples_leaf=10000, n_estimators=250, total= 2.4min\n",
      "[CV] max_depth=5, max_features=auto, min_samples_leaf=10000, n_estimators=250 \n",
      "[CV]  max_depth=5, max_features=auto, min_samples_leaf=10000, n_estimators=250, total= 2.4min\n",
      "[CV] max_depth=5, max_features=auto, min_samples_leaf=10000, n_estimators=250 \n",
      "[CV]  max_depth=5, max_features=auto, min_samples_leaf=10000, n_estimators=250, total= 2.3min\n",
      "[CV] max_depth=5, max_features=auto, min_samples_leaf=10000, n_estimators=500 \n",
      "[CV]  max_depth=5, max_features=auto, min_samples_leaf=10000, n_estimators=500, total= 4.8min\n",
      "[CV] max_depth=5, max_features=auto, min_samples_leaf=10000, n_estimators=500 \n",
      "[CV]  max_depth=5, max_features=auto, min_samples_leaf=10000, n_estimators=500, total= 4.8min\n",
      "[CV] max_depth=5, max_features=auto, min_samples_leaf=10000, n_estimators=500 \n",
      "[CV]  max_depth=5, max_features=auto, min_samples_leaf=10000, n_estimators=500, total= 4.9min\n",
      "[CV] max_depth=5, max_features=auto, min_samples_leaf=10000, n_estimators=1000 \n",
      "[CV]  max_depth=5, max_features=auto, min_samples_leaf=10000, n_estimators=1000, total= 9.3min\n",
      "[CV] max_depth=5, max_features=auto, min_samples_leaf=10000, n_estimators=1000 \n",
      "[CV]  max_depth=5, max_features=auto, min_samples_leaf=10000, n_estimators=1000, total= 9.4min\n",
      "[CV] max_depth=5, max_features=auto, min_samples_leaf=10000, n_estimators=1000 \n",
      "[CV]  max_depth=5, max_features=auto, min_samples_leaf=10000, n_estimators=1000, total= 9.3min\n",
      "[CV] max_depth=25, max_features=auto, min_samples_leaf=3000, n_estimators=100 \n",
      "[CV]  max_depth=25, max_features=auto, min_samples_leaf=3000, n_estimators=100, total= 1.8min\n",
      "[CV] max_depth=25, max_features=auto, min_samples_leaf=3000, n_estimators=100 \n",
      "[CV]  max_depth=25, max_features=auto, min_samples_leaf=3000, n_estimators=100, total= 1.8min\n",
      "[CV] max_depth=25, max_features=auto, min_samples_leaf=3000, n_estimators=100 \n",
      "[CV]  max_depth=25, max_features=auto, min_samples_leaf=3000, n_estimators=100, total= 1.8min\n",
      "[CV] max_depth=25, max_features=auto, min_samples_leaf=3000, n_estimators=250 \n",
      "[CV]  max_depth=25, max_features=auto, min_samples_leaf=3000, n_estimators=250, total= 4.1min\n",
      "[CV] max_depth=25, max_features=auto, min_samples_leaf=3000, n_estimators=250 \n",
      "[CV]  max_depth=25, max_features=auto, min_samples_leaf=3000, n_estimators=250, total= 4.2min\n",
      "[CV] max_depth=25, max_features=auto, min_samples_leaf=3000, n_estimators=250 \n",
      "[CV]  max_depth=25, max_features=auto, min_samples_leaf=3000, n_estimators=250, total= 4.1min\n",
      "[CV] max_depth=25, max_features=auto, min_samples_leaf=3000, n_estimators=500 \n",
      "[CV]  max_depth=25, max_features=auto, min_samples_leaf=3000, n_estimators=500, total= 8.6min\n",
      "[CV] max_depth=25, max_features=auto, min_samples_leaf=3000, n_estimators=500 \n",
      "[CV]  max_depth=25, max_features=auto, min_samples_leaf=3000, n_estimators=500, total= 8.6min\n",
      "[CV] max_depth=25, max_features=auto, min_samples_leaf=3000, n_estimators=500 \n",
      "[CV]  max_depth=25, max_features=auto, min_samples_leaf=3000, n_estimators=500, total= 8.7min\n",
      "[CV] max_depth=25, max_features=auto, min_samples_leaf=3000, n_estimators=1000 \n",
      "[CV]  max_depth=25, max_features=auto, min_samples_leaf=3000, n_estimators=1000, total=16.6min\n",
      "[CV] max_depth=25, max_features=auto, min_samples_leaf=3000, n_estimators=1000 \n",
      "[CV]  max_depth=25, max_features=auto, min_samples_leaf=3000, n_estimators=1000, total=16.5min\n",
      "[CV] max_depth=25, max_features=auto, min_samples_leaf=3000, n_estimators=1000 \n",
      "[CV]  max_depth=25, max_features=auto, min_samples_leaf=3000, n_estimators=1000, total=16.6min\n",
      "[CV] max_depth=25, max_features=auto, min_samples_leaf=5000, n_estimators=100 \n",
      "[CV]  max_depth=25, max_features=auto, min_samples_leaf=5000, n_estimators=100, total= 1.6min\n",
      "[CV] max_depth=25, max_features=auto, min_samples_leaf=5000, n_estimators=100 \n",
      "[CV]  max_depth=25, max_features=auto, min_samples_leaf=5000, n_estimators=100, total= 1.5min\n",
      "[CV] max_depth=25, max_features=auto, min_samples_leaf=5000, n_estimators=100 \n",
      "[CV]  max_depth=25, max_features=auto, min_samples_leaf=5000, n_estimators=100, total= 1.6min\n",
      "[CV] max_depth=25, max_features=auto, min_samples_leaf=5000, n_estimators=250 \n",
      "[CV]  max_depth=25, max_features=auto, min_samples_leaf=5000, n_estimators=250, total= 3.8min\n",
      "[CV] max_depth=25, max_features=auto, min_samples_leaf=5000, n_estimators=250 \n",
      "[CV]  max_depth=25, max_features=auto, min_samples_leaf=5000, n_estimators=250, total= 3.7min\n",
      "[CV] max_depth=25, max_features=auto, min_samples_leaf=5000, n_estimators=250 \n",
      "[CV]  max_depth=25, max_features=auto, min_samples_leaf=5000, n_estimators=250, total= 3.7min\n",
      "[CV] max_depth=25, max_features=auto, min_samples_leaf=5000, n_estimators=500 \n",
      "[CV]  max_depth=25, max_features=auto, min_samples_leaf=5000, n_estimators=500, total= 7.7min\n",
      "[CV] max_depth=25, max_features=auto, min_samples_leaf=5000, n_estimators=500 \n",
      "[CV]  max_depth=25, max_features=auto, min_samples_leaf=5000, n_estimators=500, total= 7.7min\n",
      "[CV] max_depth=25, max_features=auto, min_samples_leaf=5000, n_estimators=500 \n",
      "[CV]  max_depth=25, max_features=auto, min_samples_leaf=5000, n_estimators=500, total= 8.0min\n",
      "[CV] max_depth=25, max_features=auto, min_samples_leaf=5000, n_estimators=1000 \n",
      "[CV]  max_depth=25, max_features=auto, min_samples_leaf=5000, n_estimators=1000, total=14.9min\n",
      "[CV] max_depth=25, max_features=auto, min_samples_leaf=5000, n_estimators=1000 \n",
      "[CV]  max_depth=25, max_features=auto, min_samples_leaf=5000, n_estimators=1000, total=14.8min\n",
      "[CV] max_depth=25, max_features=auto, min_samples_leaf=5000, n_estimators=1000 \n",
      "[CV]  max_depth=25, max_features=auto, min_samples_leaf=5000, n_estimators=1000, total=14.8min\n",
      "[CV] max_depth=25, max_features=auto, min_samples_leaf=10000, n_estimators=100 \n",
      "[CV]  max_depth=25, max_features=auto, min_samples_leaf=10000, n_estimators=100, total= 1.3min\n",
      "[CV] max_depth=25, max_features=auto, min_samples_leaf=10000, n_estimators=100 \n"
     ]
    },
    {
     "name": "stdout",
     "output_type": "stream",
     "text": [
      "[CV]  max_depth=25, max_features=auto, min_samples_leaf=10000, n_estimators=100, total= 1.3min\n",
      "[CV] max_depth=25, max_features=auto, min_samples_leaf=10000, n_estimators=100 \n",
      "[CV]  max_depth=25, max_features=auto, min_samples_leaf=10000, n_estimators=100, total= 1.3min\n",
      "[CV] max_depth=25, max_features=auto, min_samples_leaf=10000, n_estimators=250 \n",
      "[CV]  max_depth=25, max_features=auto, min_samples_leaf=10000, n_estimators=250, total= 3.0min\n",
      "[CV] max_depth=25, max_features=auto, min_samples_leaf=10000, n_estimators=250 \n",
      "[CV]  max_depth=25, max_features=auto, min_samples_leaf=10000, n_estimators=250, total= 3.0min\n",
      "[CV] max_depth=25, max_features=auto, min_samples_leaf=10000, n_estimators=250 \n",
      "[CV]  max_depth=25, max_features=auto, min_samples_leaf=10000, n_estimators=250, total= 3.0min\n",
      "[CV] max_depth=25, max_features=auto, min_samples_leaf=10000, n_estimators=500 \n",
      "[CV]  max_depth=25, max_features=auto, min_samples_leaf=10000, n_estimators=500, total= 6.9min\n",
      "[CV] max_depth=25, max_features=auto, min_samples_leaf=10000, n_estimators=500 \n",
      "[CV]  max_depth=25, max_features=auto, min_samples_leaf=10000, n_estimators=500, total= 7.2min\n",
      "[CV] max_depth=25, max_features=auto, min_samples_leaf=10000, n_estimators=500 \n",
      "[CV]  max_depth=25, max_features=auto, min_samples_leaf=10000, n_estimators=500, total= 8.9min\n",
      "[CV] max_depth=25, max_features=auto, min_samples_leaf=10000, n_estimators=1000 \n",
      "[CV]  max_depth=25, max_features=auto, min_samples_leaf=10000, n_estimators=1000, total=13.9min\n",
      "[CV] max_depth=25, max_features=auto, min_samples_leaf=10000, n_estimators=1000 \n",
      "[CV]  max_depth=25, max_features=auto, min_samples_leaf=10000, n_estimators=1000, total=11.8min\n",
      "[CV] max_depth=25, max_features=auto, min_samples_leaf=10000, n_estimators=1000 \n",
      "[CV]  max_depth=25, max_features=auto, min_samples_leaf=10000, n_estimators=1000, total=11.8min\n",
      "[CV] max_depth=50, max_features=auto, min_samples_leaf=3000, n_estimators=100 \n",
      "[CV]  max_depth=50, max_features=auto, min_samples_leaf=3000, n_estimators=100, total= 1.8min\n",
      "[CV] max_depth=50, max_features=auto, min_samples_leaf=3000, n_estimators=100 \n",
      "[CV]  max_depth=50, max_features=auto, min_samples_leaf=3000, n_estimators=100, total= 1.8min\n",
      "[CV] max_depth=50, max_features=auto, min_samples_leaf=3000, n_estimators=100 \n",
      "[CV]  max_depth=50, max_features=auto, min_samples_leaf=3000, n_estimators=100, total= 1.8min\n",
      "[CV] max_depth=50, max_features=auto, min_samples_leaf=3000, n_estimators=250 \n",
      "[CV]  max_depth=50, max_features=auto, min_samples_leaf=3000, n_estimators=250, total= 4.3min\n",
      "[CV] max_depth=50, max_features=auto, min_samples_leaf=3000, n_estimators=250 \n",
      "[CV]  max_depth=50, max_features=auto, min_samples_leaf=3000, n_estimators=250, total= 4.3min\n",
      "[CV] max_depth=50, max_features=auto, min_samples_leaf=3000, n_estimators=250 \n",
      "[CV]  max_depth=50, max_features=auto, min_samples_leaf=3000, n_estimators=250, total= 4.1min\n",
      "[CV] max_depth=50, max_features=auto, min_samples_leaf=3000, n_estimators=500 \n",
      "[CV]  max_depth=50, max_features=auto, min_samples_leaf=3000, n_estimators=500, total= 8.7min\n",
      "[CV] max_depth=50, max_features=auto, min_samples_leaf=3000, n_estimators=500 \n",
      "[CV]  max_depth=50, max_features=auto, min_samples_leaf=3000, n_estimators=500, total= 8.9min\n",
      "[CV] max_depth=50, max_features=auto, min_samples_leaf=3000, n_estimators=500 \n",
      "[CV]  max_depth=50, max_features=auto, min_samples_leaf=3000, n_estimators=500, total= 8.8min\n",
      "[CV] max_depth=50, max_features=auto, min_samples_leaf=3000, n_estimators=1000 \n",
      "[CV]  max_depth=50, max_features=auto, min_samples_leaf=3000, n_estimators=1000, total=16.4min\n",
      "[CV] max_depth=50, max_features=auto, min_samples_leaf=3000, n_estimators=1000 \n",
      "[CV]  max_depth=50, max_features=auto, min_samples_leaf=3000, n_estimators=1000, total=16.3min\n",
      "[CV] max_depth=50, max_features=auto, min_samples_leaf=3000, n_estimators=1000 \n",
      "[CV]  max_depth=50, max_features=auto, min_samples_leaf=3000, n_estimators=1000, total=16.3min\n",
      "[CV] max_depth=50, max_features=auto, min_samples_leaf=5000, n_estimators=100 \n",
      "[CV]  max_depth=50, max_features=auto, min_samples_leaf=5000, n_estimators=100, total= 1.6min\n",
      "[CV] max_depth=50, max_features=auto, min_samples_leaf=5000, n_estimators=100 \n",
      "[CV]  max_depth=50, max_features=auto, min_samples_leaf=5000, n_estimators=100, total= 1.5min\n",
      "[CV] max_depth=50, max_features=auto, min_samples_leaf=5000, n_estimators=100 \n",
      "[CV]  max_depth=50, max_features=auto, min_samples_leaf=5000, n_estimators=100, total= 1.6min\n",
      "[CV] max_depth=50, max_features=auto, min_samples_leaf=5000, n_estimators=250 \n",
      "[CV]  max_depth=50, max_features=auto, min_samples_leaf=5000, n_estimators=250, total= 3.7min\n",
      "[CV] max_depth=50, max_features=auto, min_samples_leaf=5000, n_estimators=250 \n",
      "[CV]  max_depth=50, max_features=auto, min_samples_leaf=5000, n_estimators=250, total= 3.9min\n",
      "[CV] max_depth=50, max_features=auto, min_samples_leaf=5000, n_estimators=250 \n",
      "[CV]  max_depth=50, max_features=auto, min_samples_leaf=5000, n_estimators=250, total= 3.7min\n",
      "[CV] max_depth=50, max_features=auto, min_samples_leaf=5000, n_estimators=500 \n",
      "[CV]  max_depth=50, max_features=auto, min_samples_leaf=5000, n_estimators=500, total= 7.7min\n",
      "[CV] max_depth=50, max_features=auto, min_samples_leaf=5000, n_estimators=500 \n",
      "[CV]  max_depth=50, max_features=auto, min_samples_leaf=5000, n_estimators=500, total= 7.7min\n",
      "[CV] max_depth=50, max_features=auto, min_samples_leaf=5000, n_estimators=500 \n",
      "[CV]  max_depth=50, max_features=auto, min_samples_leaf=5000, n_estimators=500, total= 7.7min\n",
      "[CV] max_depth=50, max_features=auto, min_samples_leaf=5000, n_estimators=1000 \n",
      "[CV]  max_depth=50, max_features=auto, min_samples_leaf=5000, n_estimators=1000, total=14.7min\n",
      "[CV] max_depth=50, max_features=auto, min_samples_leaf=5000, n_estimators=1000 \n",
      "[CV]  max_depth=50, max_features=auto, min_samples_leaf=5000, n_estimators=1000, total=14.9min\n",
      "[CV] max_depth=50, max_features=auto, min_samples_leaf=5000, n_estimators=1000 \n",
      "[CV]  max_depth=50, max_features=auto, min_samples_leaf=5000, n_estimators=1000, total=17.6min\n",
      "[CV] max_depth=50, max_features=auto, min_samples_leaf=10000, n_estimators=100 \n",
      "[CV]  max_depth=50, max_features=auto, min_samples_leaf=10000, n_estimators=100, total= 1.7min\n",
      "[CV] max_depth=50, max_features=auto, min_samples_leaf=10000, n_estimators=100 \n",
      "[CV]  max_depth=50, max_features=auto, min_samples_leaf=10000, n_estimators=100, total= 2.0min\n",
      "[CV] max_depth=50, max_features=auto, min_samples_leaf=10000, n_estimators=100 \n",
      "[CV]  max_depth=50, max_features=auto, min_samples_leaf=10000, n_estimators=100, total= 1.9min\n",
      "[CV] max_depth=50, max_features=auto, min_samples_leaf=10000, n_estimators=250 \n",
      "[CV]  max_depth=50, max_features=auto, min_samples_leaf=10000, n_estimators=250, total= 4.2min\n",
      "[CV] max_depth=50, max_features=auto, min_samples_leaf=10000, n_estimators=250 \n",
      "[CV]  max_depth=50, max_features=auto, min_samples_leaf=10000, n_estimators=250, total= 4.5min\n",
      "[CV] max_depth=50, max_features=auto, min_samples_leaf=10000, n_estimators=250 \n",
      "[CV]  max_depth=50, max_features=auto, min_samples_leaf=10000, n_estimators=250, total= 4.4min\n",
      "[CV] max_depth=50, max_features=auto, min_samples_leaf=10000, n_estimators=500 \n",
      "[CV]  max_depth=50, max_features=auto, min_samples_leaf=10000, n_estimators=500, total= 9.3min\n",
      "[CV] max_depth=50, max_features=auto, min_samples_leaf=10000, n_estimators=500 \n",
      "[CV]  max_depth=50, max_features=auto, min_samples_leaf=10000, n_estimators=500, total= 5.8min\n",
      "[CV] max_depth=50, max_features=auto, min_samples_leaf=10000, n_estimators=500 \n",
      "[CV]  max_depth=50, max_features=auto, min_samples_leaf=10000, n_estimators=500, total= 6.2min\n",
      "[CV] max_depth=50, max_features=auto, min_samples_leaf=10000, n_estimators=1000 \n",
      "[CV]  max_depth=50, max_features=auto, min_samples_leaf=10000, n_estimators=1000, total=11.6min\n",
      "[CV] max_depth=50, max_features=auto, min_samples_leaf=10000, n_estimators=1000 \n",
      "[CV]  max_depth=50, max_features=auto, min_samples_leaf=10000, n_estimators=1000, total=12.1min\n",
      "[CV] max_depth=50, max_features=auto, min_samples_leaf=10000, n_estimators=1000 \n",
      "[CV]  max_depth=50, max_features=auto, min_samples_leaf=10000, n_estimators=1000, total=12.0min\n"
     ]
    },
    {
     "name": "stderr",
     "output_type": "stream",
     "text": [
      "[Parallel(n_jobs=-1)]: Done 144 out of 144 | elapsed: 781.9min finished\n"
     ]
    },
    {
     "name": "stdout",
     "output_type": "stream",
     "text": [
      "Random Forest (SMOTE)\n",
      "Ginni Coeff:  0.24986634428783616\n"
     ]
    }
   ],
   "source": [
    "# 4. Random Forest\n",
    "\n",
    "param_grid_rf = {\n",
    "    'max_depth': [1, 5, 25, 50],\n",
    "    'max_features': ['auto'],\n",
    "    'min_samples_leaf': [3000, 5000, 10000],\n",
    "    'n_estimators': [100, 250, 500, 1000]}\n",
    "\n",
    "rf = RandomForestClassifier()\n",
    "\n",
    "grid_search_rf_smote = GridSearchCV(estimator = rf, param_grid = param_grid_rf, \n",
    "                          cv = 3, n_jobs = -1, verbose = 2)\n",
    "\n",
    "grid_search_rf_smote.fit(train_features_2, train_labels_2)\n",
    "\n",
    "grid_search_rf_smote.best_params_\n",
    "\n",
    "best_rf_model_smote = grid_search_rf_smote.best_estimator_\n",
    "pred_rf_smote = best_rf_model_smote.predict_proba(test_features)[:,1]\n",
    "ginni_rf_smote = 2*roc_auc_score(test_labels, pred_rf_smote) - 1\n",
    "\n",
    "print ('Random Forest (SMOTE)')\n",
    "print('Ginni Coeff: ', ginni_rf_smote)"
   ]
  },
  {
   "cell_type": "code",
   "execution_count": 93,
   "metadata": {},
   "outputs": [
    {
     "name": "stdout",
     "output_type": "stream",
     "text": [
      "Random Forest (SMOTE)\n",
      "Precision:  0.5156598858780064\n",
      "Recall: 0.5893720630505181\n",
      "Confusion Matrix:\n",
      "[[99847 64330]\n",
      " [ 3243  4309]]\n"
     ]
    }
   ],
   "source": [
    "pred_rf_smote_binary = best_rf_model_smote.predict(test_features)\n",
    "\n",
    "\n",
    "print ('Random Forest (SMOTE)')\n",
    "\n",
    "print('Precision: ', precision_score(test_labels, pred_rf_smote_binary, average=\"macro\"))\n",
    "print('Recall:', recall_score(test_labels, pred_rf_smote_binary, average=\"macro\")) \n",
    "print('Confusion Matrix:')\n",
    "print(confusion_matrix(test_labels, pred_rf_smote_binary))"
   ]
  },
  {
   "cell_type": "code",
   "execution_count": 95,
   "metadata": {},
   "outputs": [
    {
     "name": "stdout",
     "output_type": "stream",
     "text": [
      "Ensemble (SMOTE)\n",
      "Ginni Coeff:  0.24114803900410076\n",
      "Precision:  0.5160056630517554\n",
      "Recall: 0.5901396677713635\n",
      "Confusion Matrix:\n",
      "[[102273  61904]\n",
      " [  3343   4209]]\n"
     ]
    }
   ],
   "source": [
    "# 5. Ensemble of the above models\n",
    "\n",
    "pred_ensemble_smote = (pred_lr_smote + pred_rf_smote + pred_nn_smote['Pred'].values)/3\n",
    "pred_ensemble_smote = pd.DataFrame(pred_ensemble_smote, columns = ['Pred'])\n",
    "pred_ensemble_smote['Pred_binary'] = pred_ensemble_smote['Pred'].apply(lambda x: 1 if x>=0.5 else 0)\n",
    "ginni_ensemble_smote = 2*roc_auc_score(test_labels, pred_ensemble_smote['Pred']) - 1\n",
    "print ('Ensemble (SMOTE)')\n",
    "print('Ginni Coeff: ', ginni_ensemble_smote)\n",
    "print('Precision: ', precision_score(test_labels, pred_ensemble_smote['Pred_binary'], average=\"macro\"))\n",
    "print('Recall:', recall_score(test_labels, pred_ensemble_smote['Pred_binary'], average=\"macro\")) \n",
    "print('Confusion Matrix:')\n",
    "print(confusion_matrix(test_labels, pred_ensemble_smote['Pred_binary']))"
   ]
  },
  {
   "cell_type": "code",
   "execution_count": null,
   "metadata": {
    "collapsed": true
   },
   "outputs": [],
   "source": []
  }
 ],
 "metadata": {
  "kernelspec": {
   "display_name": "Python 3",
   "language": "python",
   "name": "python3"
  },
  "language_info": {
   "codemirror_mode": {
    "name": "ipython",
    "version": 3
   },
   "file_extension": ".py",
   "mimetype": "text/x-python",
   "name": "python",
   "nbconvert_exporter": "python",
   "pygments_lexer": "ipython3",
   "version": "3.6.2"
  }
 },
 "nbformat": 4,
 "nbformat_minor": 2
}
